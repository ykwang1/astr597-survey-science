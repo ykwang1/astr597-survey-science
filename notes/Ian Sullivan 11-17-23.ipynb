{
 "cells": [
  {
   "cell_type": "markdown",
   "id": "36c63a6b",
   "metadata": {},
   "source": [
    "# LSST Science Pipelines overview\n",
    "\n",
    "- Raw data of 20TB/night\n",
    "    - Requires software to process data\n",
    "- Prompt Data Products\n",
    "    - creates alerts to be pushed out within 60s of shutter close\n",
    "    - Transient and variable sources from Difference Image Analysis\n",
    "    - 10M alerts / night\n",
    "    - 6M SS objects within 24h\n",
    "- Data Releases\n",
    "    - yearly reprocessing of entire data: reduced single-epock and deep co-added images, catalogs, reprocessed DIA\n",
    "    - catalogs of f37B objects (20B galaxies and 17B stars), 7 trillion sources, 30 trillion forced source measurements\n",
    "- User Generated Data Products\n",
    "    - Deep KBO/NEO, var star classifications, shear maps\n",
    "    - Enabled by services at Rubin DACs via RSP\n",
    "    - 10% of resources\n",
    "- LSST pipeline as a graph\n",
    "    - Build a directed acyclic graph of the connections\n",
    "    - predetermine all the inputs/outputs and process data as it arrives\n",
    "    - example of pipeline: light grey data, dark grey alg, one way arrows relating inputs and outputs\n",
    "    - Each data output can have many dims, eg: band, detector, instr, filter, visit, skymap, patch, tract\n",
    "        - patch: small enough patch of sky that can be represented as flat\n",
    "- coding practices and version control\n",
    "    - documentation found at pipelines.lsst.io\n",
    "    - development guidelines, avoid code smell\n",
    "    - unit tests (test driven development)\n",
    "    - code review \n",
    "    - version control\n",
    "    - continuous integration"
   ]
  },
  {
   "cell_type": "markdown",
   "id": "2b7f5ddd",
   "metadata": {},
   "source": [
    "# Image processing pipeline\n",
    "more info at https://ls.st/dpdd page 67\n",
    "1. Single visit processing\n",
    "- Components: Image characterization, background filtering, PSF modeling, cosmic ray removal, astr/phot calib\n",
    "- Prodcuts: source catalogs (src) and calibrated iamges (calexp)\n",
    "2. Image co-addition\n",
    "- Components: warp calexps to skymap, psf matching, identify and msk artifacts, model DCR, stack\n",
    "- Products: many types of coadds: deep coadd, goodseeingcoadd, dcrcoadd, etc\n",
    "3. Coadded image analysis\n",
    "- defs\n",
    "    - source: single image detection\n",
    "    - object: one or more sources and history added into one, can do forced photometry on object location\n",
    "4. Object charicterization\n",
    "- Components: source measurements, stellar motion fitting, variability measurements, photometric redshifts\n",
    "5. Image Differencing\n",
    "- Components: Warping and PSF matching\n",
    "- Product: Difference Images\n",
    "6. DIA\n",
    "- Components: detection of DIA sources, measurements, forced measurement from last 30 days, object association\n",
    "- Products: DIA sources, DIA objects\n",
    "7. Alert Distribution\n",
    "- Components: alert packaging, cutout extraction, alert filtering (by brokers)\n",
    "- Products: packaged alerts\n",
    "8. Solar system processing\n",
    "- Components: known SSO assc, moving object assc, orbit fitting\n",
    "- Products: SSO object catalog and updating MPCORB database"
   ]
  },
  {
   "cell_type": "code",
   "execution_count": null,
   "id": "4d4afd20",
   "metadata": {},
   "outputs": [],
   "source": []
  }
 ],
 "metadata": {
  "kernelspec": {
   "display_name": "Python 3 (ipykernel)",
   "language": "python",
   "name": "python3"
  },
  "language_info": {
   "codemirror_mode": {
    "name": "ipython",
    "version": 3
   },
   "file_extension": ".py",
   "mimetype": "text/x-python",
   "name": "python",
   "nbconvert_exporter": "python",
   "pygments_lexer": "ipython3",
   "version": "3.9.7"
  }
 },
 "nbformat": 4,
 "nbformat_minor": 5
}
