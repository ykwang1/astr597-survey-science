{
 "cells": [
  {
   "cell_type": "markdown",
   "id": "e733aef5-419b-4f6a-8eb1-3e661bf04fd5",
   "metadata": {},
   "source": [
    "## ASTR 597A Homework 2\n",
    "Eric Bellm\n",
    "\n",
    "Due Jan 17, 2023"
   ]
  },
  {
   "cell_type": "markdown",
   "id": "3537ac84-c2bb-424c-8f08-cc7b602b9135",
   "metadata": {},
   "source": [
    "Your name:\n",
    "    \n",
    "Your collaborators:"
   ]
  },
  {
   "cell_type": "code",
   "execution_count": 3,
   "id": "77104289-25c9-4775-9496-8db37a7f31cd",
   "metadata": {},
   "outputs": [],
   "source": [
    "# Import general python packages\n",
    "import numpy as np\n",
    "import matplotlib.pyplot as plt\n",
    "import pandas\n",
    "from astropy import units as u\n",
    "from astropy.coordinates import SkyCoord\n",
    "\n",
    "# Import the Rubin TAP service utilities\n",
    "from lsst.rsp import get_tap_service, retrieve_query"
   ]
  },
  {
   "cell_type": "markdown",
   "id": "0d5e3591-b4b8-449b-a451-dad85737abfa",
   "metadata": {},
   "source": [
    "### Setup"
   ]
  },
  {
   "cell_type": "code",
   "execution_count": 6,
   "id": "f6fe2dd8-4f27-4b0a-b4bd-1bc064a67d94",
   "metadata": {},
   "outputs": [],
   "source": [
    "# create the TAP service client\n",
    "service = get_tap_service()"
   ]
  },
  {
   "cell_type": "code",
   "execution_count": 45,
   "id": "19faaafd-ceaf-484a-8f29-948cbe76d2f6",
   "metadata": {},
   "outputs": [],
   "source": [
    "# we will all use the same input coordinates and radii\n",
    "center_coords = \"62, -37\""
   ]
  },
  {
   "cell_type": "markdown",
   "id": "437da5f2-19f8-4def-830c-8406fc3ea7ac",
   "metadata": {},
   "source": [
    "As we saw in class, when we limit the number of rows returned from a query, we don't get the same set of rows returned each time.  It would be nice to choose a spatial region small enough to be able to load all of the records.  Let's count how many `isPrimary` objects there are at a fiducial radius:"
   ]
  },
  {
   "cell_type": "code",
   "execution_count": 82,
   "id": "2db77b4f-0224-44c8-9473-5e6bad8c0492",
   "metadata": {},
   "outputs": [],
   "source": [
    "radius_deg = 0.5"
   ]
  },
  {
   "cell_type": "code",
   "execution_count": 83,
   "id": "14897a5b-cbe0-48ab-b73c-e64387ee480f",
   "metadata": {},
   "outputs": [
    {
     "name": "stdout",
     "output_type": "stream",
     "text": [
      "count \n",
      "------\n",
      "400406\n",
      "CPU times: user 8.8 ms, sys: 994 µs, total: 9.8 ms\n",
      "Wall time: 409 ms\n"
     ]
    }
   ],
   "source": [
    "%%time\n",
    "results = service.search(\"SELECT count(coord_ra)\"\n",
    "                         \"FROM dp02_dc2_catalogs.Object \"\n",
    "                         \"WHERE CONTAINS(POINT('ICRS', coord_ra, coord_dec), \"\n",
    "                         f\"CIRCLE('ICRS', {center_coords}, {radius_deg})) = 1 \"\n",
    "                         \"AND detect_isPrimary = 1 \").to_table()\n",
    "\n",
    "print(results['count'])"
   ]
  },
  {
   "cell_type": "markdown",
   "id": "ad6b738c-380c-42de-862d-0e5ec80f84bd",
   "metadata": {},
   "source": [
    "Can we just \"SELECT \\*\" and be on our way then?"
   ]
  },
  {
   "cell_type": "markdown",
   "id": "671d4a5f-78fd-498b-809f-f29303d63b5d",
   "metadata": {},
   "source": [
    "## Exercise 1: Big Data\n"
   ]
  },
  {
   "cell_type": "markdown",
   "id": "254962fe-bf27-41f7-98e1-ec11499184e2",
   "metadata": {},
   "source": [
    "### Exercise 1a\n",
    "\n",
    "How many `isPrimary` objects are in all of DP0.2?"
   ]
  },
  {
   "cell_type": "code",
   "execution_count": null,
   "id": "693d88be-88c4-45bc-8ce1-14993970fccd",
   "metadata": {},
   "outputs": [],
   "source": []
  },
  {
   "cell_type": "markdown",
   "id": "00eb7543-17a4-40c9-9b55-2a56e4af1fb0",
   "metadata": {},
   "source": [
    "### Exercise 1b\n",
    "\n",
    "How much memory do you need to load one row of the Object table?\n",
    "\n",
    "*Hint: use the dtypes of all the columns.*"
   ]
  },
  {
   "cell_type": "code",
   "execution_count": null,
   "id": "e08da17b-4fb1-40a9-94bb-46432aa7e446",
   "metadata": {},
   "outputs": [],
   "source": []
  },
  {
   "cell_type": "markdown",
   "id": "d76614aa-9d27-445a-af52-e4a03929e42b",
   "metadata": {},
   "source": [
    "### Exercise 1c\n",
    "\n",
    "What's the maximum number of full rows of the Object table can you load into a Medium instance on data.lsst.cloud?"
   ]
  },
  {
   "cell_type": "code",
   "execution_count": null,
   "id": "46743035-9172-4b58-a9b5-8b23454dc1a5",
   "metadata": {},
   "outputs": [],
   "source": []
  },
  {
   "cell_type": "markdown",
   "id": "4359cc85-4433-446b-9b0b-58c43af32e82",
   "metadata": {},
   "source": [
    "## Exercise 2: Scattered\n",
    "\n",
    "When encountering a new dataset it is important to explore the data and understand its properties.  The tutorial notebook 02 will be a useful reference.  \n",
    "\n",
    "(For the following exercises, use the `center_coords` and `radius_deg` defined above.)"
   ]
  },
  {
   "cell_type": "markdown",
   "id": "11789701-5ac0-43b5-94c5-529b737bd530",
   "metadata": {},
   "source": [
    "### Exercise 2a: Star or galaxy?\n",
    "\n",
    "What values can the `{band}_extendedness` entry take?  What fraction of the time do the values disagree between bands?  What if you only look at rows where none of the `{band}_extendedness_flag` are set?"
   ]
  },
  {
   "cell_type": "code",
   "execution_count": null,
   "id": "af05e41a-bc66-44e9-ac56-ba60d86ee165",
   "metadata": {},
   "outputs": [],
   "source": []
  },
  {
   "cell_type": "markdown",
   "id": "234aafa7-84c6-439d-ac13-18492ca4d50e",
   "metadata": {},
   "source": [
    "### Exercise 2b. Signal to Noise\n",
    "\n",
    "Make a plot of PSF magnitude vs. magnitude error for r-band point sources in our region of interest.  Exclude sources with the PSF Flux general failure flag set.  Set the axes extents to a reasonable range and label your axes!\n",
    "\n",
    "Hints:  Consult the [schema browser](https://dm.lsst.org/sdm_schemas/browser/dp02.html#Object) for column names.  Consider using [hexbin](https://matplotlib.org/stable/api/_as_gen/matplotlib.pyplot.hexbin.html) instead of a scatter plot with `bins='log'`..."
   ]
  },
  {
   "cell_type": "code",
   "execution_count": null,
   "id": "a6780b3b-ab81-4e8d-aad4-d89532091866",
   "metadata": {},
   "outputs": [],
   "source": []
  },
  {
   "cell_type": "markdown",
   "id": "d6d0ef38-d277-4fc9-9aec-22eb4bec1ea6",
   "metadata": {},
   "source": [
    "## Exercise 3: Find a Transient or Variable\n",
    "\n",
    "Using the `DIAObject` table, find an object with more than 1 magnitude of variability and plot its lightcurve.  The 07a and 07b tutorial notebooks may be helpful."
   ]
  },
  {
   "cell_type": "code",
   "execution_count": null,
   "id": "12751395-840c-452f-b8bf-fc266aa2c852",
   "metadata": {},
   "outputs": [],
   "source": []
  }
 ],
 "metadata": {
  "kernelspec": {
   "display_name": "LSST",
   "language": "python",
   "name": "lsst"
  },
  "language_info": {
   "codemirror_mode": {
    "name": "ipython",
    "version": 3
   },
   "file_extension": ".py",
   "mimetype": "text/x-python",
   "name": "python",
   "nbconvert_exporter": "python",
   "pygments_lexer": "ipython3",
   "version": "3.10.5"
  }
 },
 "nbformat": 4,
 "nbformat_minor": 5
}
