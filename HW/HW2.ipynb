{
 "cells": [
  {
   "cell_type": "markdown",
   "id": "e733aef5-419b-4f6a-8eb1-3e661bf04fd5",
   "metadata": {},
   "source": [
    "## ASTR 597A Homework 2\n",
    "Eric Bellm\n",
    "\n",
    "Due Jan 17, 2023"
   ]
  },
  {
   "cell_type": "markdown",
   "id": "3537ac84-c2bb-424c-8f08-cc7b602b9135",
   "metadata": {},
   "source": [
    "Your name: David\n",
    "    \n",
    "Your collaborators: Tobin, Jake, Tom"
   ]
  },
  {
   "cell_type": "code",
   "execution_count": 1,
   "id": "77104289-25c9-4775-9496-8db37a7f31cd",
   "metadata": {},
   "outputs": [],
   "source": [
    "# Import general python packages\n",
    "import numpy as np\n",
    "import pandas as pd\n",
    "import matplotlib.pyplot as plt\n",
    "import pandas\n",
    "from astropy import units as u\n",
    "from astropy.coordinates import SkyCoord\n",
    "\n",
    "# Import the Rubin TAP service utilities\n",
    "from lsst.rsp import get_tap_service, retrieve_query"
   ]
  },
  {
   "cell_type": "markdown",
   "id": "0d5e3591-b4b8-449b-a451-dad85737abfa",
   "metadata": {},
   "source": [
    "### Setup"
   ]
  },
  {
   "cell_type": "code",
   "execution_count": 2,
   "id": "f6fe2dd8-4f27-4b0a-b4bd-1bc064a67d94",
   "metadata": {},
   "outputs": [],
   "source": [
    "# create the TAP service client\n",
    "service = get_tap_service()"
   ]
  },
  {
   "cell_type": "code",
   "execution_count": 3,
   "id": "19faaafd-ceaf-484a-8f29-948cbe76d2f6",
   "metadata": {},
   "outputs": [],
   "source": [
    "# we will all use the same input coordinates and radii\n",
    "center_coords = \"62, -37\""
   ]
  },
  {
   "cell_type": "markdown",
   "id": "437da5f2-19f8-4def-830c-8406fc3ea7ac",
   "metadata": {},
   "source": [
    "As we saw in class, when we limit the number of rows returned from a query, we don't get the same set of rows returned each time.  It would be nice to choose a spatial region small enough to be able to load all of the records.  Let's count how many `isPrimary` objects there are at a fiducial radius:"
   ]
  },
  {
   "cell_type": "code",
   "execution_count": 4,
   "id": "2db77b4f-0224-44c8-9473-5e6bad8c0492",
   "metadata": {},
   "outputs": [],
   "source": [
    "radius_deg = 0.5"
   ]
  },
  {
   "cell_type": "code",
   "execution_count": 5,
   "id": "14897a5b-cbe0-48ab-b73c-e64387ee480f",
   "metadata": {},
   "outputs": [
    {
     "name": "stdout",
     "output_type": "stream",
     "text": [
      "count \n",
      "------\n",
      "400406\n",
      "CPU times: user 7.67 ms, sys: 2.58 ms, total: 10.2 ms\n",
      "Wall time: 5min 8s\n"
     ]
    }
   ],
   "source": [
    "%%time\n",
    "results = service.search(\"SELECT count(coord_ra)\"\n",
    "                         \"FROM dp02_dc2_catalogs.Object \"\n",
    "                         \"WHERE CONTAINS(POINT('ICRS', coord_ra, coord_dec), \"\n",
    "                         f\"CIRCLE('ICRS', {center_coords}, {radius_deg})) = 1 \"\n",
    "                         \"AND detect_isPrimary = 1 \").to_table()\n",
    "\n",
    "print(results['count'])"
   ]
  },
  {
   "cell_type": "markdown",
   "id": "ad6b738c-380c-42de-862d-0e5ec80f84bd",
   "metadata": {},
   "source": [
    "Can we just \"SELECT \\*\" and be on our way then?"
   ]
  },
  {
   "cell_type": "markdown",
   "id": "671d4a5f-78fd-498b-809f-f29303d63b5d",
   "metadata": {},
   "source": [
    "## Exercise 1: Big Data\n"
   ]
  },
  {
   "cell_type": "markdown",
   "id": "254962fe-bf27-41f7-98e1-ec11499184e2",
   "metadata": {},
   "source": [
    "### Exercise 1a\n",
    "\n",
    "How many `isPrimary` objects are in all of DP0.2?"
   ]
  },
  {
   "cell_type": "code",
   "execution_count": null,
   "id": "693d88be-88c4-45bc-8ce1-14993970fccd",
   "metadata": {},
   "outputs": [],
   "source": [
    "results = service.search(\"SELECT count(coord_ra)\"\n",
    "                         \"FROM dp02_dc2_catalogs.Object \"\n",
    "                         \"WHERE detect_isPrimary = 1 \").to_table()\n",
    "results"
   ]
  },
  {
   "cell_type": "markdown",
   "id": "e189bec4-c022-4249-9d4d-d8ad3e6a58d9",
   "metadata": {},
   "source": [
    "Jake ran something equivalent to the above cell and got 161025835 rows (i.e. > 161M objects) It took almost 30 minutes to run (so the rest of us did not replicate it in this notebook) which also highlights the impracticality of doing SELECT *"
   ]
  },
  {
   "cell_type": "markdown",
   "id": "00eb7543-17a4-40c9-9b55-2a56e4af1fb0",
   "metadata": {},
   "source": [
    "### Exercise 1b\n",
    "\n",
    "How much memory do you need to load one row of the Object table?\n",
    "\n",
    "*Hint: use the dtypes of all the columns.*"
   ]
  },
  {
   "cell_type": "code",
   "execution_count": 6,
   "id": "e08da17b-4fb1-40a9-94bb-46432aa7e446",
   "metadata": {},
   "outputs": [
    {
     "name": "stdout",
     "output_type": "stream",
     "text": [
      "CPU times: user 243 ms, sys: 7.49 ms, total: 250 ms\n",
      "Wall time: 2.65 s\n"
     ]
    },
    {
     "data": {
      "text/html": [
       "<div>\n",
       "<style scoped>\n",
       "    .dataframe tbody tr th:only-of-type {\n",
       "        vertical-align: middle;\n",
       "    }\n",
       "\n",
       "    .dataframe tbody tr th {\n",
       "        vertical-align: top;\n",
       "    }\n",
       "\n",
       "    .dataframe thead th {\n",
       "        text-align: right;\n",
       "    }\n",
       "</style>\n",
       "<table border=\"1\" class=\"dataframe\">\n",
       "  <thead>\n",
       "    <tr style=\"text-align: right;\">\n",
       "      <th></th>\n",
       "      <th>coord_dec</th>\n",
       "      <th>coord_ra</th>\n",
       "      <th>deblend_nChild</th>\n",
       "      <th>deblend_skipped</th>\n",
       "      <th>detect_fromBlend</th>\n",
       "      <th>detect_isDeblendedModelSource</th>\n",
       "      <th>detect_isDeblendedSource</th>\n",
       "      <th>detect_isIsolated</th>\n",
       "      <th>detect_isPatchInner</th>\n",
       "      <th>detect_isPrimary</th>\n",
       "      <th>...</th>\n",
       "      <th>z_pixelFlags_suspect</th>\n",
       "      <th>z_pixelFlags_suspectCenter</th>\n",
       "      <th>z_psfFlux</th>\n",
       "      <th>z_psfFlux_area</th>\n",
       "      <th>z_psfFlux_flag</th>\n",
       "      <th>z_psfFlux_flag_apCorr</th>\n",
       "      <th>z_psfFlux_flag_edge</th>\n",
       "      <th>z_psfFlux_flag_noGoodPixels</th>\n",
       "      <th>z_psfFluxErr</th>\n",
       "      <th>z_ra</th>\n",
       "    </tr>\n",
       "  </thead>\n",
       "  <tbody>\n",
       "    <tr>\n",
       "      <th>0</th>\n",
       "      <td>-37.198251</td>\n",
       "      <td>62.02493</td>\n",
       "      <td>0</td>\n",
       "      <td>False</td>\n",
       "      <td>True</td>\n",
       "      <td>True</td>\n",
       "      <td>True</td>\n",
       "      <td>False</td>\n",
       "      <td>True</td>\n",
       "      <td>True</td>\n",
       "      <td>...</td>\n",
       "      <td>False</td>\n",
       "      <td>False</td>\n",
       "      <td>147.204939</td>\n",
       "      <td>66.720497</td>\n",
       "      <td>False</td>\n",
       "      <td>False</td>\n",
       "      <td>False</td>\n",
       "      <td>False</td>\n",
       "      <td>74.705087</td>\n",
       "      <td>62.02498</td>\n",
       "    </tr>\n",
       "  </tbody>\n",
       "</table>\n",
       "<p>1 rows × 991 columns</p>\n",
       "</div>"
      ],
      "text/plain": [
       "   coord_dec  coord_ra  deblend_nChild  deblend_skipped  detect_fromBlend  \\\n",
       "0 -37.198251  62.02493               0            False              True   \n",
       "\n",
       "   detect_isDeblendedModelSource  detect_isDeblendedSource  detect_isIsolated  \\\n",
       "0                           True                      True              False   \n",
       "\n",
       "   detect_isPatchInner  detect_isPrimary  ...  z_pixelFlags_suspect  \\\n",
       "0                 True              True  ...                 False   \n",
       "\n",
       "   z_pixelFlags_suspectCenter   z_psfFlux  z_psfFlux_area  z_psfFlux_flag  \\\n",
       "0                       False  147.204939       66.720497           False   \n",
       "\n",
       "   z_psfFlux_flag_apCorr  z_psfFlux_flag_edge  z_psfFlux_flag_noGoodPixels  \\\n",
       "0                  False                False                        False   \n",
       "\n",
       "   z_psfFluxErr      z_ra  \n",
       "0     74.705087  62.02498  \n",
       "\n",
       "[1 rows x 991 columns]"
      ]
     },
     "execution_count": 6,
     "metadata": {},
     "output_type": "execute_result"
    }
   ],
   "source": [
    "%%time\n",
    "# get one row\n",
    "one_row = service.search(\"SELECT *\"\n",
    "                         \"FROM dp02_dc2_catalogs.Object \"\n",
    "                         \"WHERE CONTAINS(POINT('ICRS', coord_ra, coord_dec), \"\n",
    "                         f\"CIRCLE('ICRS', {center_coords}, {radius_deg})) = 1 \"\n",
    "                         \"AND detect_isPrimary = 1 \"\n",
    "                         \"LIMIT 1\").to_table().to_pandas()\n",
    "\n",
    "one_row"
   ]
  },
  {
   "cell_type": "code",
   "execution_count": 47,
   "id": "d53304d6-42cf-4c8b-8c5f-3567265bea38",
   "metadata": {},
   "outputs": [
    {
     "name": "stdout",
     "output_type": "stream",
     "text": [
      "The total size of one row is 4558 bytes\n"
     ]
    }
   ],
   "source": [
    "# get the number of rows with each dtype\n",
    "fields = pd.DataFrame(one_row.dtypes.value_counts())\n",
    "\n",
    "# get the sizes of each dtype and join with the fields df\n",
    "sizes = pd.Series({x:x.itemsize for x in fields.index}, name='size')\n",
    "fields = fields.join(sizes)\n",
    "\n",
    "# multiply number of rows with each dtype with the size of the dtype and sum over all dtypes\n",
    "size_of_row = sum(fields[0] * fields['size'])\n",
    "\n",
    "print(f\"The total size of one row is {size_of_row} bytes\") "
   ]
  },
  {
   "cell_type": "markdown",
   "id": "d76614aa-9d27-445a-af52-e4a03929e42b",
   "metadata": {},
   "source": [
    "### Exercise 1c\n",
    "\n",
    "What's the maximum number of full rows of the Object table can you load into a Medium instance on data.lsst.cloud?"
   ]
  },
  {
   "cell_type": "code",
   "execution_count": 53,
   "id": "46743035-9172-4b58-a9b5-8b23454dc1a5",
   "metadata": {},
   "outputs": [
    {
     "name": "stdout",
     "output_type": "stream",
     "text": [
      "We can load at most 1413438 rows into memory on a medium instance\n"
     ]
    }
   ],
   "source": [
    "size_of_disk = 6144 * 1024 ** 2 # bytes\n",
    "print(f\"We can load at most {size_of_disk / size_of_row:.0f} rows into memory on a medium instance\")"
   ]
  },
  {
   "cell_type": "markdown",
   "id": "1f3a540a-af30-4671-af7a-d68542648253",
   "metadata": {},
   "source": [
    "This is only a few percent fo the total number of objects"
   ]
  },
  {
   "cell_type": "markdown",
   "id": "4359cc85-4433-446b-9b0b-58c43af32e82",
   "metadata": {},
   "source": [
    "## Exercise 2: Scattered\n",
    "\n",
    "When encountering a new dataset it is important to explore the data and understand its properties.  The tutorial notebook 02 will be a useful reference.  \n",
    "\n",
    "(For the following exercises, use the `center_coords` and `radius_deg` defined above.)"
   ]
  },
  {
   "cell_type": "markdown",
   "id": "11789701-5ac0-43b5-94c5-529b737bd530",
   "metadata": {},
   "source": [
    "### Exercise 2a: Star or galaxy?\n",
    "\n",
    "What values can the `{band}_extendedness` entry take?  What fraction of the time do the values disagree between bands?  What if you only look at rows where none of the `{band}_extendedness_flag` are set?"
   ]
  },
  {
   "cell_type": "code",
   "execution_count": 58,
   "id": "af05e41a-bc66-44e9-ac56-ba60d86ee165",
   "metadata": {},
   "outputs": [],
   "source": [
    "# read the schema of the Object table\n",
    "test = service.search(\"SELECT column_name, datatype, description, unit from TAP_SCHEMA.columns \"\n",
    "                         \"WHERE table_name = 'dp02_dc2_catalogs.Object'\")\n",
    "tap_schema = test.to_table().to_pandas()"
   ]
  },
  {
   "cell_type": "code",
   "execution_count": 75,
   "id": "4306cf8c-d731-4007-a4dc-128987c268b8",
   "metadata": {},
   "outputs": [
    {
     "data": {
      "text/html": [
       "<div>\n",
       "<style scoped>\n",
       "    .dataframe tbody tr th:only-of-type {\n",
       "        vertical-align: middle;\n",
       "    }\n",
       "\n",
       "    .dataframe tbody tr th {\n",
       "        vertical-align: top;\n",
       "    }\n",
       "\n",
       "    .dataframe thead th {\n",
       "        text-align: right;\n",
       "    }\n",
       "</style>\n",
       "<table border=\"1\" class=\"dataframe\">\n",
       "  <thead>\n",
       "    <tr style=\"text-align: right;\">\n",
       "      <th></th>\n",
       "      <th>column_name</th>\n",
       "      <th>datatype</th>\n",
       "      <th>description</th>\n",
       "      <th>unit</th>\n",
       "    </tr>\n",
       "  </thead>\n",
       "  <tbody>\n",
       "    <tr>\n",
       "      <th>75</th>\n",
       "      <td>g_extendedness</td>\n",
       "      <td>double</td>\n",
       "      <td>Set to 1 for extended sources, 0 for point sou...</td>\n",
       "      <td></td>\n",
       "    </tr>\n",
       "    <tr>\n",
       "      <th>76</th>\n",
       "      <td>g_extendedness_flag</td>\n",
       "      <td>boolean</td>\n",
       "      <td>Set to 1 for any fatal failure. Measured on g-...</td>\n",
       "      <td></td>\n",
       "    </tr>\n",
       "    <tr>\n",
       "      <th>235</th>\n",
       "      <td>i_extendedness</td>\n",
       "      <td>double</td>\n",
       "      <td>Set to 1 for extended sources, 0 for point sou...</td>\n",
       "      <td></td>\n",
       "    </tr>\n",
       "    <tr>\n",
       "      <th>236</th>\n",
       "      <td>i_extendedness_flag</td>\n",
       "      <td>boolean</td>\n",
       "      <td>Set to 1 for any fatal failure. Measured on i-...</td>\n",
       "      <td></td>\n",
       "    </tr>\n",
       "    <tr>\n",
       "      <th>399</th>\n",
       "      <td>r_extendedness</td>\n",
       "      <td>double</td>\n",
       "      <td>Set to 1 for extended sources, 0 for point sou...</td>\n",
       "      <td></td>\n",
       "    </tr>\n",
       "    <tr>\n",
       "      <th>400</th>\n",
       "      <td>r_extendedness_flag</td>\n",
       "      <td>boolean</td>\n",
       "      <td>Set to 1 for any fatal failure. Measured on r-...</td>\n",
       "      <td></td>\n",
       "    </tr>\n",
       "    <tr>\n",
       "      <th>569</th>\n",
       "      <td>u_extendedness</td>\n",
       "      <td>double</td>\n",
       "      <td>Set to 1 for extended sources, 0 for point sou...</td>\n",
       "      <td></td>\n",
       "    </tr>\n",
       "    <tr>\n",
       "      <th>570</th>\n",
       "      <td>u_extendedness_flag</td>\n",
       "      <td>boolean</td>\n",
       "      <td>Set to 1 for any fatal failure. Measured on u-...</td>\n",
       "      <td></td>\n",
       "    </tr>\n",
       "    <tr>\n",
       "      <th>733</th>\n",
       "      <td>y_extendedness</td>\n",
       "      <td>double</td>\n",
       "      <td>Set to 1 for extended sources, 0 for point sou...</td>\n",
       "      <td></td>\n",
       "    </tr>\n",
       "    <tr>\n",
       "      <th>734</th>\n",
       "      <td>y_extendedness_flag</td>\n",
       "      <td>boolean</td>\n",
       "      <td>Set to 1 for any fatal failure. Measured on y-...</td>\n",
       "      <td></td>\n",
       "    </tr>\n",
       "    <tr>\n",
       "      <th>894</th>\n",
       "      <td>z_extendedness</td>\n",
       "      <td>double</td>\n",
       "      <td>Set to 1 for extended sources, 0 for point sou...</td>\n",
       "      <td></td>\n",
       "    </tr>\n",
       "    <tr>\n",
       "      <th>895</th>\n",
       "      <td>z_extendedness_flag</td>\n",
       "      <td>boolean</td>\n",
       "      <td>Set to 1 for any fatal failure. Measured on z-...</td>\n",
       "      <td></td>\n",
       "    </tr>\n",
       "  </tbody>\n",
       "</table>\n",
       "</div>"
      ],
      "text/plain": [
       "             column_name datatype  \\\n",
       "75        g_extendedness   double   \n",
       "76   g_extendedness_flag  boolean   \n",
       "235       i_extendedness   double   \n",
       "236  i_extendedness_flag  boolean   \n",
       "399       r_extendedness   double   \n",
       "400  r_extendedness_flag  boolean   \n",
       "569       u_extendedness   double   \n",
       "570  u_extendedness_flag  boolean   \n",
       "733       y_extendedness   double   \n",
       "734  y_extendedness_flag  boolean   \n",
       "894       z_extendedness   double   \n",
       "895  z_extendedness_flag  boolean   \n",
       "\n",
       "                                           description unit  \n",
       "75   Set to 1 for extended sources, 0 for point sou...       \n",
       "76   Set to 1 for any fatal failure. Measured on g-...       \n",
       "235  Set to 1 for extended sources, 0 for point sou...       \n",
       "236  Set to 1 for any fatal failure. Measured on i-...       \n",
       "399  Set to 1 for extended sources, 0 for point sou...       \n",
       "400  Set to 1 for any fatal failure. Measured on r-...       \n",
       "569  Set to 1 for extended sources, 0 for point sou...       \n",
       "570  Set to 1 for any fatal failure. Measured on u-...       \n",
       "733  Set to 1 for extended sources, 0 for point sou...       \n",
       "734  Set to 1 for any fatal failure. Measured on y-...       \n",
       "894  Set to 1 for extended sources, 0 for point sou...       \n",
       "895  Set to 1 for any fatal failure. Measured on z-...       "
      ]
     },
     "execution_count": 75,
     "metadata": {},
     "output_type": "execute_result"
    }
   ],
   "source": [
    "# find all columns with extendedness\n",
    "tap_schema[tap_schema['column_name'].str.contains(\"_extendedness\")]"
   ]
  },
  {
   "cell_type": "code",
   "execution_count": null,
   "id": "02606679-e151-40e6-8698-cecd3658f745",
   "metadata": {},
   "outputs": [],
   "source": [
    "tap_schema[tap_schema['column_name'].str.contains(\"_extendedness\")].iloc[0]['description']"
   ]
  },
  {
   "cell_type": "markdown",
   "id": "86fcca01-c022-4904-a332-2e25dc3bec7c",
   "metadata": {},
   "source": [
    "From the description, extendedness can take two values: 0 for point sources and 1 for extended sources. However, from the data, we see that there are also nans."
   ]
  },
  {
   "cell_type": "code",
   "execution_count": 95,
   "id": "714b483b-358b-4571-89cd-c12861501d58",
   "metadata": {},
   "outputs": [],
   "source": [
    "# read the extendedness metrics for all objects in the given circle\n",
    "ext_cols = ','.join([x for x in tap_schema['column_name'] if '_extendedness' in x])"
   ]
  },
  {
   "cell_type": "code",
   "execution_count": 155,
   "id": "debc69eb-6a29-4d63-ac4a-123d2eb3b2f6",
   "metadata": {},
   "outputs": [],
   "source": [
    "# %%time\n",
    "results = service.search(f\"SELECT {ext_cols}, r_psfFlux_flag, \"\n",
    "                         \"scisql_nanojanskyToAbMag(r_psfFlux) as r_psfMag, \"\n",
    "                         \"scisql_nanojanskyToAbMagSigma(r_psfFlux, r_psfFluxErr) as r_psfMagErr \"\n",
    "                         \"FROM dp02_dc2_catalogs.Object \"\n",
    "                         \"WHERE CONTAINS(POINT('ICRS', coord_ra, coord_dec), \"\n",
    "                         f\"CIRCLE('ICRS', {center_coords}, {radius_deg})) = 1 \"\n",
    "                         \"AND detect_isPrimary = 1 \").to_table()\n",
    "\n",
    "# print(results['count'])"
   ]
  },
  {
   "cell_type": "markdown",
   "id": "d214ea35-af79-48d4-b0f5-5aa49c2cce34",
   "metadata": {},
   "source": [
    "What values can the {band}_extendedness entry take? What fraction of the time do the values disagree between bands? What if you only look at rows where none of the {band}_extendedness_flag are set?"
   ]
  },
  {
   "cell_type": "code",
   "execution_count": 156,
   "id": "094793d1-1360-4e1b-8218-57d68dff1ce9",
   "metadata": {},
   "outputs": [],
   "source": [
    "df = results.to_pandas()\n"
   ]
  },
  {
   "cell_type": "code",
   "execution_count": 142,
   "id": "9c4e4b0d-b586-4d8c-b460-37fbcf67ac9e",
   "metadata": {},
   "outputs": [],
   "source": [
    "# column names for extendedness and extendedness_flags\n",
    "nonflag = [x for x in df.columns if  x[-4:] == 'ness']\n",
    "flag = [x for x in df.columns if 'ness_flag' in x]"
   ]
  },
  {
   "cell_type": "code",
   "execution_count": 143,
   "id": "aaac7022-c186-4f33-aa71-ceaa8ff79e19",
   "metadata": {},
   "outputs": [],
   "source": [
    "# find the \n",
    "nanlen = lambda x: sum(~np.isnan(x))\n",
    "nansums_by_row = df[nonflag].apply(np.nansum, axis=1)\n",
    "nanlens_by_row = df[nonflag].apply(nanlen, axis=1)\n",
    "\n"
   ]
  },
  {
   "cell_type": "markdown",
   "id": "64ac5f52-f264-4504-8bcc-0cc70ff9d3f4",
   "metadata": {},
   "source": [
    "When all bands are in agreement, the average value will be either 0 or 1"
   ]
  },
  {
   "cell_type": "code",
   "execution_count": 145,
   "id": "0c63be6e-6e81-4b3a-8192-edbbb4d835ae",
   "metadata": {},
   "outputs": [
    {
     "data": {
      "text/plain": [
       "1.000000    251016\n",
       "0.000000     28794\n",
       "0.500000     18642\n",
       "0.833333     18560\n",
       "0.666667     16356\n",
       "0.800000     13807\n",
       "0.750000     11494\n",
       "0.600000      9136\n",
       "0.333333      8880\n",
       "0.400000      6657\n",
       "0.166667      5863\n",
       "0.200000      5362\n",
       "0.250000      4847\n",
       "dtype: int64"
      ]
     },
     "execution_count": 145,
     "metadata": {},
     "output_type": "execute_result"
    }
   ],
   "source": [
    "(nansums_by_row / nanlens_by_row).value_counts()"
   ]
  },
  {
   "cell_type": "code",
   "execution_count": 125,
   "id": "e44c80f4-7d7a-487d-9a60-81e698831aa9",
   "metadata": {},
   "outputs": [
    {
     "data": {
      "text/plain": [
       "0.6988157020624066"
      ]
     },
     "execution_count": 125,
     "metadata": {},
     "output_type": "execute_result"
    }
   ],
   "source": [
    "percent_disagree = 1 - (251016 + 28794) / len(df)\n",
    "print(f\"Percent of rows disagreeing while not ignoring rows with nans: {100 * percent_disagree:.1f}\")"
   ]
  },
  {
   "cell_type": "code",
   "execution_count": 131,
   "id": "fb4ae368-fa75-4703-990d-f85e58f97c04",
   "metadata": {},
   "outputs": [],
   "source": [
    "# now subselect to only the rows where the flags are all set to zero (i.e. no failures)\n",
    "all_false = df[df[flag].sum(axis=1) == 0]\n",
    "def find_pct(data):\n",
    "    nanlen = lambda x: sum(~np.isnan(x))\n",
    "    nansums_by_row = data[nonflag].apply(np.nansum, axis=1)\n",
    "    nanlens_by_row = data[nonflag].apply(nanlen, axis=1)\n",
    "    print((nansums_by_row / nanlens_by_row).value_counts())\n",
    "\n"
   ]
  },
  {
   "cell_type": "code",
   "execution_count": 132,
   "id": "69421a26-8dd4-47de-a78a-fdce4587e4e9",
   "metadata": {},
   "outputs": [
    {
     "name": "stdout",
     "output_type": "stream",
     "text": [
      "1.000000    157575\n",
      "0.833333     18560\n",
      "0.000000     11613\n",
      "0.666667      7415\n",
      "0.166667      5863\n",
      "0.500000      5719\n",
      "0.333333      3967\n",
      "dtype: int64\n"
     ]
    }
   ],
   "source": [
    "find_pct(all_false)"
   ]
  },
  {
   "cell_type": "code",
   "execution_count": 134,
   "id": "3f76ff72-b10d-48ac-96e0-a6c948e70c36",
   "metadata": {},
   "outputs": [
    {
     "data": {
      "text/plain": [
       "0.19706518850373966"
      ]
     },
     "execution_count": 134,
     "metadata": {},
     "output_type": "execute_result"
    }
   ],
   "source": [
    "percent_disagree = 1 - (157575 + 11613) / len(all_false)\n",
    "print(f\"Percent of rows disagreeing with for subset of objects with no flags: {100 * percent_disagree:.1f}\")"
   ]
  },
  {
   "cell_type": "markdown",
   "id": "234aafa7-84c6-439d-ac13-18492ca4d50e",
   "metadata": {
    "tags": []
   },
   "source": [
    "### Exercise 2b. Signal to Noise\n",
    "\n",
    "Make a plot of PSF magnitude vs. magnitude error for r-band point sources in our region of interest.  Exclude sources with the PSF Flux general failure flag set.  Set the axes extents to a reasonable range and label your axes!\n",
    "\n",
    "Hints:  Consult the [schema browser](https://dm.lsst.org/sdm_schemas/browser/dp02.html#Object) for column names.  Consider using [hexbin](https://matplotlib.org/stable/api/_as_gen/matplotlib.pyplot.hexbin.html) instead of a scatter plot with `bins='log'`..."
   ]
  },
  {
   "cell_type": "markdown",
   "id": "c90c72dc-b818-47f9-a044-becc91013395",
   "metadata": {},
   "source": [
    "Only 19.6"
   ]
  },
  {
   "cell_type": "code",
   "execution_count": 166,
   "id": "a6780b3b-ab81-4e8d-aad4-d89532091866",
   "metadata": {},
   "outputs": [
    {
     "data": {
      "text/plain": [
       "<matplotlib.collections.PolyCollection at 0x7fee7bfa6d40>"
      ]
     },
     "execution_count": 166,
     "metadata": {},
     "output_type": "execute_result"
    },
    {
     "data": {
      "image/png": "[encoded data removed]",
      "text/plain": [
       "<Figure size 640x480 with 1 Axes>"
      ]
     },
     "metadata": {},
     "output_type": "display_data"
    }
   ],
   "source": [
    "data = df[df['r_psfFlux_flag'] == False ]\n",
    "data = data.query('r_psfMag < 30')\n",
    "plt.hexbin(data['r_psfMag'], np.log(data['r_psfMagErr']), bins='log')\n",
    "plt.xlabel('PSF magnitude of r-band point sources')\n",
    "# plt.yscale('log')"
   ]
  },
  {
   "cell_type": "markdown",
   "id": "d6d0ef38-d277-4fc9-9aec-22eb4bec1ea6",
   "metadata": {},
   "source": [
    "## Exercise 3: Find a Transient or Variable\n",
    "\n",
    "Using the `DIAObject` table, find an object with more than 1 magnitude of variability and plot its lightcurve.  The 07a and 07b tutorial notebooks may be helpful."
   ]
  },
  {
   "cell_type": "code",
   "execution_count": null,
   "id": "12751395-840c-452f-b8bf-fc266aa2c852",
   "metadata": {},
   "outputs": [],
   "source": [
    "# Find 100 objects with >50 detections and an amplitude of at least 1 mag in r band\n",
    "\n",
    "test = service.search(\"SELECT ra, decl, diaObjectId, nDiaSources \"\n",
    "                      \"FROM dp02_dc2_catalogs.DiaObject \"\n",
    "                      \"WHERE nDiaSources > 50 AND \"\n",
    "                      \"scisql_nanojanskyToAbMag(rPSFluxMin)\"\n",
    "                      f\" - scisql_nanojanskyToAbMag(rPSFluxMax) > 1 \",\n",
    "                      maxrec=100)"
   ]
  },
  {
   "cell_type": "code",
   "execution_count": null,
   "id": "5b660945-f992-4964-ba56-37e47e931333",
   "metadata": {},
   "outputs": [],
   "source": [
    "# Plot 100 multiband lightcurves\n",
    "for obj in test['diaObjectId'].data:\n",
    "    results = service.search(\"SELECT ra, decl, diaObjectId, diaSourceId, \"\n",
    "                         \"filterName, midPointTai, \"\n",
    "                         \"scisql_nanojanskyToAbMag(psFlux) AS psAbMag \"\n",
    "                         \"FROM dp02_dc2_catalogs.DiaSource \"\n",
    "                         f\"WHERE diaObjectId = {obj}\").to_table()\n",
    "    data = results.to_pandas()\n",
    "    plt.figure()\n",
    "    for f in 'ugrizy':\n",
    "        sub = data[data['filterName'] == f]\n",
    "        plt.scatter(sub['midPointTai'], sub['psAbMag'], label=f)\n",
    "        plt.legend()\n",
    "    plt.gca().invert_yaxis()\n",
    "    plt.show()"
   ]
  },
  {
   "cell_type": "code",
   "execution_count": 217,
   "id": "1031696f-a7d4-47f5-9ded-de514ccba8e7",
   "metadata": {},
   "outputs": [],
   "source": [
    "# lightcurve of 1249528994269757817, which meets the criteria\n",
    "results = service.search(\"SELECT ra, decl, diaObjectId, diaSourceId, \"\n",
    "                         \"filterName, midPointTai, \"\n",
    "                         \"scisql_nanojanskyToAbMag(psFlux) AS psAbMag \"\n",
    "                         \"FROM dp02_dc2_catalogs.DiaSource \"\n",
    "                         \"WHERE diaObjectId = 1249528994269757817\").to_table()"
   ]
  },
  {
   "cell_type": "code",
   "execution_count": 210,
   "id": "f85d4ff0-1271-4f5d-b5fc-a7e83fc6dd09",
   "metadata": {},
   "outputs": [],
   "source": [
    "data = results.to_pandas()"
   ]
  },
  {
   "cell_type": "code",
   "execution_count": 211,
   "id": "ed505eda-5361-4c9b-93d5-495f19575107",
   "metadata": {},
   "outputs": [],
   "source": [
    "%config InlineBackend.figure_format = 'retina'"
   ]
  },
  {
   "cell_type": "code",
   "execution_count": 212,
   "id": "aed4d6e0-6959-45e8-ac96-342dd411bad3",
   "metadata": {},
   "outputs": [
    {
     "data": {
      "image/png": "[encoded data removed]",
      "text/plain": [
       "<Figure size 640x480 with 1 Axes>"
      ]
     },
     "metadata": {
      "image/png": {
       "height": 416,
       "width": 547
      }
     },
     "output_type": "display_data"
    }
   ],
   "source": [
    "# multiband lightcurve of 1249528994269757817\n",
    "for f in 'ugrizy':\n",
    "    sub = data[data['filterName'] == f]\n",
    "    plt.scatter(sub['midPointTai'], sub['psAbMag'], label=f)\n",
    "plt.legend()\n",
    "plt.gca().invert_yaxis()"
   ]
  }
 ],
 "metadata": {
  "kernelspec": {
   "display_name": "LSST",
   "language": "python",
   "name": "lsst"
  },
  "language_info": {
   "codemirror_mode": {
    "name": "ipython",
    "version": 3
   },
   "file_extension": ".py",
   "mimetype": "text/x-python",
   "name": "python",
   "nbconvert_exporter": "python",
   "pygments_lexer": "ipython3",
   "version": "3.10.5"
  }
 },
 "nbformat": 4,
 "nbformat_minor": 5
}
