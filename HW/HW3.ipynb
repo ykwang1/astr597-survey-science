{
 "cells": [
  {
   "cell_type": "markdown",
   "id": "62f66cf3-c015-44e5-b8d2-5066ee0cd831",
   "metadata": {},
   "source": [
    "## ASTR 597A Homework 3\n",
    "Eric Bellm\n",
    "\n",
    "Due Jan 24, 2023"
   ]
  },
  {
   "cell_type": "markdown",
   "id": "2825ee37-aef9-4082-8d54-d0651614638b",
   "metadata": {},
   "source": [
    "Your name:\n",
    "    \n",
    "Your collaborators:"
   ]
  },
  {
   "cell_type": "code",
   "execution_count": 1,
   "id": "300d61ef-bc55-43e5-b35c-12f14f4525df",
   "metadata": {
    "tags": []
   },
   "outputs": [],
   "source": [
    "# Generic python packages\n",
    "import numpy as np\n",
    "import matplotlib.pyplot as plt\n",
    "\n",
    "# LSST Science Pipelines (Stack) packages\n",
    "import lsst.daf.butler as dafButler\n",
    "import lsst.afw.display as afwDisplay\n",
    "import lsst.sphgeom\n",
    "afwDisplay.setDefaultBackend('matplotlib')\n",
    "\n",
    "# Set a standard figure size to use\n",
    "plt.rcParams['figure.figsize'] = (8.0, 8.0)"
   ]
  },
  {
   "cell_type": "code",
   "execution_count": 5,
   "id": "aff3bf3a-eb36-4521-a005-fac7f825908a",
   "metadata": {},
   "outputs": [],
   "source": [
    "butler = dafButler.Butler('dp02', collections='2.2i/runs/DP0.2')\n",
    "registry = butler.registry"
   ]
  },
  {
   "cell_type": "markdown",
   "id": "ee253fec-0e01-467e-9fce-dafc90226e77",
   "metadata": {},
   "source": [
    "## Exercise 1: Ask the Butler\n",
    "\n",
    "The 04b (Intermediate Butler Queries) tutorial notebooks may be helpful."
   ]
  },
  {
   "cell_type": "markdown",
   "id": "02d38aea-e279-4a3d-ad7c-cc2c9479fdbb",
   "metadata": {},
   "source": [
    "### Exercise 1a\n",
    "\n",
    "How many DP0.2 tracts have r-band `'deepCoadd'`s?"
   ]
  },
  {
   "cell_type": "code",
   "execution_count": null,
   "id": "9dac7be5-2a0e-4c39-bab9-076d7b5d2cef",
   "metadata": {},
   "outputs": [],
   "source": []
  },
  {
   "cell_type": "markdown",
   "id": "aee61058-44de-4ce8-ad78-cd22fa9ef33d",
   "metadata": {},
   "source": [
    "### Exercise 1b\n",
    "\n",
    "Find the tract and patch corresponding to (ra, dec) 62.0, -37.0.  If there is more than one r-band `deepCoad` at that position, make a plot that explains why."
   ]
  },
  {
   "cell_type": "code",
   "execution_count": null,
   "id": "b705e51c-3482-4041-8f96-7cde1d927d37",
   "metadata": {},
   "outputs": [],
   "source": []
  },
  {
   "cell_type": "markdown",
   "id": "5d776862-64c9-48a5-b920-18cabd2f48a1",
   "metadata": {},
   "source": [
    "### Exercise 1c\n",
    "\n",
    "Using the (tract, patch) with the lowest patch number, plot histograms of the seeing values of the images that were coadded in the r-band `deepCoadd` and `goodSeeingCoadd` for that (tract, patch).  Tutorial notebook 09a (Custom Coadd)will give you some ideas on how to get the `coaddInputs`.  The `coaddInputs.ccds` table will be helpful.\n",
    "\n",
    "For each input `calexp`, you will need to retrieve the PSF and then use `psf.computeShape(psf.getAveragePosition()).getDeterminantRadius()` to get the PSF width in sigma.  Convert these to FWHM in arcseconds for your plots."
   ]
  },
  {
   "cell_type": "code",
   "execution_count": null,
   "id": "3b6e5d00-35a8-4141-beea-99212060dd36",
   "metadata": {},
   "outputs": [],
   "source": []
  },
  {
   "cell_type": "markdown",
   "id": "95500516-1fd3-48a1-b9ce-324f022da8c2",
   "metadata": {},
   "source": [
    "## Exercise 2: DIY Good-seeing Coadd\n",
    "\n",
    "Complete the `09a_Custom_Coadd` tutorial notebook, but rather than coadding all of the visits within a temporal window, instead coadd the three first three visits that have seeing values in the range included in the `goodSeeingCoadd` inputs.  Display the result and compare to the standard `deepCoadd` and `goodSeeingCoadd`.\n",
    "\n",
    "Coadded template images are a necessary input to alert production.  What are the implications of this exercise for alert generation early in the LSST survey?  How many images were taken before three images had good enough seeing?  How long did the survey run before the images were acquired?"
   ]
  },
  {
   "cell_type": "code",
   "execution_count": null,
   "id": "ae8f1686-073e-4fd0-85a3-8051c9523107",
   "metadata": {},
   "outputs": [],
   "source": []
  }
 ],
 "metadata": {
  "kernelspec": {
   "display_name": "LSST",
   "language": "python",
   "name": "lsst"
  },
  "language_info": {
   "codemirror_mode": {
    "name": "ipython",
    "version": 3
   },
   "file_extension": ".py",
   "mimetype": "text/x-python",
   "name": "python",
   "nbconvert_exporter": "python",
   "pygments_lexer": "ipython3",
   "version": "3.10.5"
  }
 },
 "nbformat": 4,
 "nbformat_minor": 5
}
