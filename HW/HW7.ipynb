{
 "cells": [
  {
   "cell_type": "markdown",
   "id": "2e434af5-e7ea-4481-8db8-93aeb6821c09",
   "metadata": {
    "execution": {
     "iopub.execute_input": "2023-01-30T01:10:23.448807Z",
     "iopub.status.busy": "2023-01-30T01:10:23.447973Z",
     "iopub.status.idle": "2023-01-30T01:10:23.452882Z",
     "shell.execute_reply": "2023-01-30T01:10:23.452092Z",
     "shell.execute_reply.started": "2023-01-30T01:10:23.448782Z"
    }
   },
   "source": [
    "## ASTR 597A Homework 7\n",
    "Eric Bellm\n",
    "\n",
    "Due Feb 21, 2023"
   ]
  },
  {
   "cell_type": "markdown",
   "id": "47ca2b20-7e93-49dd-b179-5c807da364af",
   "metadata": {
    "execution": {
     "iopub.execute_input": "2023-01-30T01:10:37.231882Z",
     "iopub.status.busy": "2023-01-30T01:10:37.231002Z",
     "iopub.status.idle": "2023-01-30T01:10:37.235381Z",
     "shell.execute_reply": "2023-01-30T01:10:37.234794Z",
     "shell.execute_reply.started": "2023-01-30T01:10:37.231856Z"
    }
   },
   "source": [
    "Your name:\n",
    "    \n",
    "Your collaborators:"
   ]
  },
  {
   "cell_type": "markdown",
   "id": "d31e62e1-62bc-48ac-8cf9-1629ede6d7ea",
   "metadata": {},
   "source": [
    "For this homework we'll need another external package, [sncosmo](https://sncosmo.readthedocs.io/).  Install it and then restart the kernel:"
   ]
  },
  {
   "cell_type": "code",
   "execution_count": 1,
   "id": "4298d2bc-3067-4e35-baef-ab4bd812dcc7",
   "metadata": {
    "tags": []
   },
   "outputs": [
    {
     "name": "stdout",
     "output_type": "stream",
     "text": [
      "Collecting sncosmo\n",
      "  Downloading sncosmo-2.9.0-cp310-cp310-manylinux_2_5_x86_64.manylinux1_x86_64.manylinux_2_12_x86_64.manylinux2010_x86_64.whl (656 kB)\n",
      "\u001b[2K     \u001b[90m━━━━━━━━━━━━━━━━━━━━━━━━━━━━━━━━━━━━━━━\u001b[0m \u001b[32m656.5/656.5 kB\u001b[0m \u001b[31m9.6 MB/s\u001b[0m eta \u001b[36m0:00:00\u001b[0ma \u001b[36m0:00:01\u001b[0m\n",
      "\u001b[?25hRequirement already satisfied: scipy>=0.19.0 in /opt/lsst/software/stack/conda/miniconda3-py38_4.9.2/envs/lsst-scipipe-4.1.0/lib/python3.10/site-packages (from sncosmo) (1.8.1)\n",
      "Requirement already satisfied: astropy>=1.3.0 in /opt/lsst/software/stack/conda/miniconda3-py38_4.9.2/envs/lsst-scipipe-4.1.0/lib/python3.10/site-packages (from sncosmo) (5.1)\n",
      "Collecting extinction>=0.4.2\n",
      "  Downloading extinction-0.4.6-cp310-cp310-manylinux_2_5_x86_64.manylinux1_x86_64.manylinux_2_12_x86_64.manylinux2010_x86_64.whl (443 kB)\n",
      "\u001b[2K     \u001b[90m━━━━━━━━━━━━━━━━━━━━━━━━━━━━━━━━━━━━━━\u001b[0m \u001b[32m443.4/443.4 kB\u001b[0m \u001b[31m20.2 MB/s\u001b[0m eta \u001b[36m0:00:00\u001b[0m\n",
      "\u001b[?25hRequirement already satisfied: numpy>=1.13.3 in /opt/lsst/software/stack/conda/miniconda3-py38_4.9.2/envs/lsst-scipipe-4.1.0/lib/python3.10/site-packages (from sncosmo) (1.21.6)\n",
      "Requirement already satisfied: pyyaml>=3.13 in /opt/lsst/software/stack/conda/miniconda3-py38_4.9.2/envs/lsst-scipipe-4.1.0/lib/python3.10/site-packages (from sncosmo) (6.0)\n",
      "Requirement already satisfied: pyerfa>=2.0 in /opt/lsst/software/stack/conda/miniconda3-py38_4.9.2/envs/lsst-scipipe-4.1.0/lib/python3.10/site-packages (from astropy>=1.3.0->sncosmo) (2.0.0.1)\n",
      "Requirement already satisfied: packaging>=19.0 in /opt/lsst/software/stack/conda/miniconda3-py38_4.9.2/envs/lsst-scipipe-4.1.0/lib/python3.10/site-packages (from astropy>=1.3.0->sncosmo) (21.3)\n",
      "Requirement already satisfied: pyparsing!=3.0.5,>=2.0.2 in /opt/lsst/software/stack/conda/miniconda3-py38_4.9.2/envs/lsst-scipipe-4.1.0/lib/python3.10/site-packages (from packaging>=19.0->astropy>=1.3.0->sncosmo) (3.0.9)\n",
      "Installing collected packages: extinction, sncosmo\n",
      "Successfully installed extinction-0.4.6 sncosmo-2.9.0\n"
     ]
    }
   ],
   "source": [
    "!pip install --user sncosmo"
   ]
  },
  {
   "cell_type": "code",
   "execution_count": 2,
   "id": "21854096-c051-43b4-9e2e-7186e14857ad",
   "metadata": {},
   "outputs": [
    {
     "name": "stderr",
     "output_type": "stream",
     "text": [
      "WARNING: AstropyDeprecationWarning: The update_default_config function is deprecated and may be removed in a future version. [sncosmo]\n"
     ]
    }
   ],
   "source": [
    "import sncosmo"
   ]
  },
  {
   "cell_type": "markdown",
   "id": "2cbf14dd-04a4-46b1-b30a-5d00c95562ae",
   "metadata": {
    "execution": {
     "iopub.execute_input": "2023-02-12T01:14:57.524985Z",
     "iopub.status.busy": "2023-02-12T01:14:57.524316Z",
     "iopub.status.idle": "2023-02-12T01:14:57.535548Z",
     "shell.execute_reply": "2023-02-12T01:14:57.534982Z",
     "shell.execute_reply.started": "2023-02-12T01:14:57.524957Z"
    },
    "tags": []
   },
   "source": [
    "## Exercise 1: Searching for Supernovae\n",
    "\n",
    "Without using the truth table information, identify a sample of 40 or more candidate Ia supernovae.\n",
    "\n",
    "The 07a tutorial notebook may be helpful."
   ]
  },
  {
   "cell_type": "markdown",
   "id": "31dc1e7b-0804-4546-ad81-bdd1c170cb40",
   "metadata": {},
   "source": [
    "#### Identify some typoe Ia supernova using peak abs mag"
   ]
  },
  {
   "cell_type": "code",
   "execution_count": 152,
   "id": "e5fe7e98-e856-42d0-ab3a-4c32d57c32a6",
   "metadata": {},
   "outputs": [],
   "source": [
    "import time\n",
    "from IPython.display import Image\n",
    "\n",
    "import numpy as np\n",
    "import pandas as pd\n",
    "import matplotlib.pyplot as plt\n",
    "\n",
    "from lsst.rsp import get_tap_service\n",
    "\n"
   ]
  },
  {
   "cell_type": "code",
   "execution_count": 7,
   "id": "2ef4896d-f9a1-4bfa-b2f8-8c0f95b2377c",
   "metadata": {},
   "outputs": [],
   "source": [
    "from astropy.cosmology import FlatLambdaCDM\n",
    "cosmo = FlatLambdaCDM(H0=70, Om0=0.3)"
   ]
  },
  {
   "cell_type": "code",
   "execution_count": 8,
   "id": "2fbaa10f-37f5-4f68-a194-655aae4b9864",
   "metadata": {},
   "outputs": [],
   "source": [
    "redshift_min = 0.1\n",
    "redshift_max = 0.3\n",
    "\n",
    "snia_peak_mag = -19.0\n",
    "snia_peak_mag_range = 0.5"
   ]
  },
  {
   "cell_type": "code",
   "execution_count": 9,
   "id": "cf02f7d5-8018-4272-9ca7-8f270e3efce2",
   "metadata": {},
   "outputs": [
    {
     "name": "stdout",
     "output_type": "stream",
     "text": [
      "The minimum and maximum apparent r-band magnitudes to use in the TAP query are 18.82 and 22.46 mag.\n"
     ]
    }
   ],
   "source": [
    "snia_peak_mr_min = cosmo.distmod(redshift_min).value + snia_peak_mag - snia_peak_mag_range\n",
    "snia_peak_mr_max = cosmo.distmod(redshift_max).value + snia_peak_mag + snia_peak_mag_range\n",
    "print('The minimum and maximum apparent r-band magnitudes '\n",
    "      'to use in the TAP query are %5.2f and %5.2f mag.' %\n",
    "      (snia_peak_mr_min, snia_peak_mr_max))"
   ]
  },
  {
   "cell_type": "code",
   "execution_count": 47,
   "id": "1e6525f6-fb98-4f74-acc7-66dc7b33d4d1",
   "metadata": {},
   "outputs": [],
   "source": [
    "# Set some lc params\n",
    "snia_peak_mg_max = 24.0\n",
    "snia_peak_mi_max = 24.0\n",
    "\n",
    "snia_ampl_mr_min = 1.5\n",
    "snia_ampl_mr_max = 5.5\n",
    "\n",
    "snia_nDiaSources_min = 30\n",
    "snia_nDiaSources_max = 200\n",
    "\n",
    "snia_duration_min = 50\n",
    "snia_duration_max = 300"
   ]
  },
  {
   "cell_type": "code",
   "execution_count": 21,
   "id": "089ca0f0-aae4-4ca9-8ff3-d157a0a919a5",
   "metadata": {},
   "outputs": [
    {
     "name": "stdout",
     "output_type": "stream",
     "text": [
      "CPU times: user 173 ms, sys: 1.79 ms, total: 175 ms\n",
      "Wall time: 15.9 s\n"
     ]
    }
   ],
   "source": [
    "%%time\n",
    "\n",
    "results = service.search(\"SELECT ra, decl, diaObjectId, nDiaSources, \"\n",
    "                         \"scisql_nanojanskyToAbMag(rPSFluxMin) AS rMagMax, \"\n",
    "                         \"scisql_nanojanskyToAbMag(rPSFluxMax) AS rMagMin, \"\n",
    "                         \"scisql_nanojanskyToAbMag(gPSFluxMax) AS gMagMin, \"\n",
    "                         \"scisql_nanojanskyToAbMag(iPSFluxMax) AS iMagMin, \"\n",
    "                         \"scisql_nanojanskyToAbMag(rPSFluxMin)\"\n",
    "                         \" - scisql_nanojanskyToAbMag(rPSFluxMax) AS rMagAmp \"\n",
    "                         \"FROM dp02_dc2_catalogs.DiaObject \"\n",
    "                         \"WHERE nDiaSources > \"+str(snia_nDiaSources_min)+\" \"\n",
    "                         \"AND nDiaSources < \"+str(snia_nDiaSources_max)+\" \"\n",
    "                         \"AND scisql_nanojanskyToAbMag(rPSFluxMax) > \"+str(snia_peak_mr_min)+\" \"\n",
    "                         \"AND scisql_nanojanskyToAbMag(rPSFluxMax) < \"+str(snia_peak_mr_max)+\" \"\n",
    "                         \"AND scisql_nanojanskyToAbMag(gPSFluxMax) < \"+str(snia_peak_mg_max)+\" \"\n",
    "                         \"AND scisql_nanojanskyToAbMag(iPSFluxMax) < \"+str(snia_peak_mi_max)+\" \"\n",
    "                         \"AND scisql_nanojanskyToAbMag(rPSFluxMin)\"\n",
    "                         \" - scisql_nanojanskyToAbMag(rPSFluxMax) < \"+str(snia_ampl_mr_max)+\" \"\n",
    "                         \"AND scisql_nanojanskyToAbMag(rPSFluxMin)\"\n",
    "                         \" - scisql_nanojanskyToAbMag(rPSFluxMax) > \"+str(snia_ampl_mr_min)+\" \",\n",
    "                         maxrec=10000)\n",
    "\n",
    "DiaObjs = results.to_table()\n",
    "del results"
   ]
  },
  {
   "cell_type": "code",
   "execution_count": 22,
   "id": "97ae7c06-1073-4872-a173-184d4b40f742",
   "metadata": {},
   "outputs": [
    {
     "name": "stdout",
     "output_type": "stream",
     "text": [
      "CPU times: user 49 s, sys: 1.77 s, total: 50.8 s\n",
      "Wall time: 11min 45s\n"
     ]
    }
   ],
   "source": [
    "%%time\n",
    "\n",
    "DiaObjs['duration'] = numpy.zeros(len(DiaObjs), dtype='float')\n",
    "\n",
    "for j,DiaObjId in enumerate(DiaObjs['diaObjectId']):\n",
    "    results = service.search(\"SELECT diaObjectId, midPointTai \"\n",
    "                             \"FROM dp02_dc2_catalogs.DiaSource \"\n",
    "                             \"WHERE diaObjectId = \"+str(DiaObjId))\n",
    "    results = results.to_table()\n",
    "    DiaObjs['duration'][j] = numpy.max(results['midPointTai']) - numpy.min(results['midPointTai'])\n",
    "    del results"
   ]
  },
  {
   "cell_type": "code",
   "execution_count": 48,
   "id": "266152c3-2dd9-4e66-ab76-bf120df3f0bd",
   "metadata": {},
   "outputs": [
    {
     "name": "stdout",
     "output_type": "stream",
     "text": [
      "331\n"
     ]
    }
   ],
   "source": [
    "tx = numpy.where((DiaObjs['duration'] > snia_duration_min)\n",
    "                 & (DiaObjs['duration'] < snia_duration_max))[0]\n",
    "print(len(tx))"
   ]
  },
  {
   "cell_type": "code",
   "execution_count": 49,
   "id": "35328a80-7359-4731-9da0-540ad5bb47e4",
   "metadata": {},
   "outputs": [
    {
     "name": "stdout",
     "output_type": "stream",
     "text": [
      "2632\n"
     ]
    }
   ],
   "source": [
    "nx = numpy.where((DiaObjs['nDiaSources'] > snia_nDiaSources_min)\n",
    "                 & (DiaObjs['nDiaSources'] < snia_nDiaSources_max))[0]\n",
    "print(len(nx))"
   ]
  },
  {
   "cell_type": "code",
   "execution_count": 56,
   "id": "278b6ffb-7c1d-443c-a589-2d2b5e55f6ae",
   "metadata": {},
   "outputs": [
    {
     "data": {
      "text/plain": [
       "43"
      ]
     },
     "execution_count": 56,
     "metadata": {},
     "output_type": "execute_result"
    }
   ],
   "source": [
    "import numpy as np\n",
    "tx = np.array([x for x in nx if x in tx])\n",
    "len(tx)"
   ]
  },
  {
   "cell_type": "code",
   "execution_count": 54,
   "id": "ba151493-23b1-4d0c-b430-8893e3e0897a",
   "metadata": {},
   "outputs": [
    {
     "data": {
      "image/png": "[encoded data removed]",
      "text/plain": [
       "<Figure size 1000x300 with 2 Axes>"
      ]
     },
     "metadata": {},
     "output_type": "display_data"
    }
   ],
   "source": [
    "fig, ax = plt.subplots(1, 2, figsize=(10, 3), sharey=False, sharex=False)\n",
    "\n",
    "ax[0].hist(DiaObjs['duration'][tx], bins=20, color='grey')\n",
    "ax[0].set_xlabel('Lightcurve Duration [days]')\n",
    "ax[0].set_ylabel('Number of Potential SNIa')\n",
    "\n",
    "ax[1].plot(DiaObjs['duration'][tx], DiaObjs['rMagAmp'][tx], 'o', color='grey')\n",
    "ax[1].set_xlabel('Lightcurve Duration [days]')\n",
    "ax[1].set_ylabel('Amplitude in r-band [mag]')\n",
    "\n",
    "plt.tight_layout()\n",
    "plt.show()"
   ]
  },
  {
   "cell_type": "code",
   "execution_count": 55,
   "id": "e85fb6b1-3d86-4a8e-99e6-bee329acd4b0",
   "metadata": {},
   "outputs": [
    {
     "data": {
      "image/png": "[encoded data removed]",
      "text/plain": [
       "<Figure size 1000x1000 with 20 Axes>"
      ]
     },
     "metadata": {},
     "output_type": "display_data"
    }
   ],
   "source": [
    "fig, ax = plt.subplots(5, 4, figsize=(10, 10), sharey=False, sharex=False)\n",
    "\n",
    "x = 0\n",
    "\n",
    "for i in range(5):\n",
    "    for j in range(4):\n",
    "        results = service.search(\"SELECT ra, decl, diaObjectId, diaSourceId, \"\n",
    "                                 \"filterName, midPointTai, \"\n",
    "                                 \"scisql_nanojanskyToAbMag(psFlux) AS psAbMag \"\n",
    "                                 \"FROM dp02_dc2_catalogs.DiaSource \"\n",
    "                                 \"WHERE diaObjectId = \"+str(DiaObjs['diaObjectId'][tx[x]]))\n",
    "        results = results.to_table()\n",
    "\n",
    "        for f, filt in enumerate(plot_filter_labels):\n",
    "            fx = numpy.where(results['filterName'] == filt)[0]\n",
    "            ax[i, j].plot(results['midPointTai'][fx], results['psAbMag'][fx],\n",
    "                          plot_filter_symbols[filt], ms=10, mew=0, alpha=0.5,\n",
    "                          color=plot_filter_colors[filt])\n",
    "            del fx\n",
    "\n",
    "        ax[i, j].invert_yaxis()\n",
    "        ax[i, j].set_title(DiaObjs['diaObjectId'][tx[x]])\n",
    "\n",
    "        if i == 4:\n",
    "            ax[i, j].xaxis.set_label_text('MJD (days)')\n",
    "        if j == 0:\n",
    "            ax[i, j].yaxis.set_label_text('mag')\n",
    "\n",
    "        x += 1\n",
    "        del results\n",
    "\n",
    "plt.tight_layout()\n",
    "plt.show()"
   ]
  },
  {
   "cell_type": "markdown",
   "id": "e6a3e540-ee55-47ea-848f-b76fdf2b71e7",
   "metadata": {
    "tags": []
   },
   "source": [
    "## Exercise 2: Ia Lightcurve fitting.\n",
    "\n",
    "Using `sncosmo`, fit a [SALT2](https://ui.adsabs.harvard.edu/abs/2007A%26A...466...11G/abstract) model to each of the candidate Ia SNe you identified in Exercise 1.  \n",
    "\n",
    "The fit to each lightcurve will yield parameters `z` (redshift), `t0` (time of peak brightness), `x0` (amplitude), `x1` (stretch), and `c` (color).  Save them and their errors. \n",
    "\n",
    "Note that the fit may fail for some of your lightcurves; that's okay."
   ]
  },
  {
   "cell_type": "code",
   "execution_count": 66,
   "id": "8c503b14-8157-494d-a0c0-32e1f237bed0",
   "metadata": {},
   "outputs": [],
   "source": [
    "for obj in df.loc[tx]['diaObjectId'][:1]:\n",
    "        results = service.search(\"SELECT ra, decl, diaObjectId, diaSourceId, \"\n",
    "                                 \"filterName, midPointTai, \"\n",
    "                                 \"scisql_nanojanskyToAbMag(psFlux) AS psAbMag \"\n",
    "                                 \"FROM dp02_dc2_catalogs.DiaSource \"\n",
    "                                 \"WHERE diaObjectId = \"+str(DiaObjs['diaObjectId'][tx[x]]))\n",
    "        results = results.to_table().to_pandas()"
   ]
  },
  {
   "cell_type": "code",
   "execution_count": 71,
   "id": "64fa58f7-5c84-4cdf-9e19-bb2297eabcf5",
   "metadata": {},
   "outputs": [],
   "source": [
    "DiaObjID = obj"
   ]
  },
  {
   "cell_type": "code",
   "execution_count": 72,
   "id": "18821fd0-2c4f-49ca-917d-4186a2340a69",
   "metadata": {},
   "outputs": [
    {
     "data": {
      "text/plain": [
       "1250030371572026200"
      ]
     },
     "execution_count": 72,
     "metadata": {},
     "output_type": "execute_result"
    }
   ],
   "source": [
    "DiaObjId"
   ]
  },
  {
   "cell_type": "code",
   "execution_count": 85,
   "id": "6f1521c5-36d9-49f7-81ff-01095f10f7dd",
   "metadata": {},
   "outputs": [
    {
     "name": "stdout",
     "output_type": "stream",
     "text": [
      "CPU times: user 28.3 ms, sys: 2.09 ms, total: 30.4 ms\n",
      "Wall time: 1.74 s\n"
     ]
    }
   ],
   "source": [
    "%%time\n",
    "results = service.search(\"SELECT fsodo.coord_ra, fsodo.coord_dec, \"\\\n",
    "                         \"fsodo.diaObjectId, fsodo.ccdVisitId, fsodo.band, \"\\\n",
    "                         \"fsodo.psfDiffFlux, fsodo.psfDiffFluxErr, \"\\\n",
    "                         \"fsodo.psfFlux, fsodo.psfFluxErr, \"\\\n",
    "                         \"cv.expMidptMJD \"\\\n",
    "                         \"FROM dp02_dc2_catalogs.ForcedSourceOnDiaObject as fsodo \"\\\n",
    "                         \"JOIN dp02_dc2_catalogs.CcdVisit as cv ON cv.ccdVisitId = fsodo.ccdVisitId \"\\\n",
    "                         \"WHERE fsodo.diaObjectId = \"+str(DiaObjID))"
   ]
  },
  {
   "cell_type": "code",
   "execution_count": 86,
   "id": "650c259d-2cea-4ecb-a98e-8e1ed0f02bb6",
   "metadata": {},
   "outputs": [],
   "source": [
    "FrcdSrc = results.to_table()\n",
    "FrcdSrc\n",
    "del results"
   ]
  },
  {
   "cell_type": "code",
   "execution_count": 87,
   "id": "6e11de81-3f14-44b3-805e-591e569a1c45",
   "metadata": {},
   "outputs": [
    {
     "name": "stdout",
     "output_type": "stream",
     "text": [
      "CPU times: user 9.95 ms, sys: 2.95 ms, total: 12.9 ms\n",
      "Wall time: 111 ms\n"
     ]
    }
   ],
   "source": [
    "%%time\n",
    "\n",
    "results = service.search(\"SELECT ra, decl, diaObjectId, diaSourceId, psFlux, psFluxErr, \"\n",
    "                         \"filterName, midPointTai, SNR, ccdVisitId, \"\n",
    "                         \"scisql_nanojanskyToAbMag(psFlux) AS psAbMag \"\n",
    "                         \"FROM dp02_dc2_catalogs.DiaSource \"\n",
    "                         \"WHERE diaObjectId = \"+str(DiaObjID))\n",
    "DiaSrc = results.to_table()\n",
    "del results"
   ]
  },
  {
   "cell_type": "code",
   "execution_count": null,
   "id": "53eb1e89-aee3-4eec-8c33-4d5d7c7932eb",
   "metadata": {},
   "outputs": [],
   "source": []
  },
  {
   "cell_type": "code",
   "execution_count": null,
   "id": "14cc07c1-ffb3-4164-bba1-0468fe783d32",
   "metadata": {},
   "outputs": [],
   "source": [
    "mjd_full_start = numpy.min(FrcdSrc['expMidptMJD'])\n",
    "mjd_full_end = numpy.max(FrcdSrc['expMidptMJD'])\n",
    "\n",
    "mjd_det_start = numpy.min(DiaSrc['midPointTai'])\n",
    "mjd_det_end = numpy.max(DiaSrc['midPointTai'])"
   ]
  },
  {
   "cell_type": "code",
   "execution_count": 88,
   "id": "84583f39-289d-4071-a298-52051c576017",
   "metadata": {},
   "outputs": [],
   "source": [
    "FrcdSrc['DiffSNR'] = abs(FrcdSrc['psfDiffFlux']/FrcdSrc['psfDiffFluxErr'])"
   ]
  },
  {
   "cell_type": "code",
   "execution_count": 93,
   "id": "6d8423a4-d203-452e-ab20-4a8784dd2ec3",
   "metadata": {},
   "outputs": [
    {
     "data": {
      "image/png": "[encoded data removed]",
      "text/plain": [
       "<Figure size 1200x400 with 2 Axes>"
      ]
     },
     "metadata": {},
     "output_type": "display_data"
    }
   ],
   "source": [
    "fig, ax = plt.subplots(1, 2, figsize=(12, 4), sharey=True, sharex=False)\n",
    "\n",
    "for f, filt in enumerate(plot_filter_labels):\n",
    "    fx = numpy.where(FrcdSrc['band'] == filt)[0]\n",
    "    ax[0].plot(FrcdSrc['expMidptMJD'][fx], FrcdSrc['psfDiffFlux'][fx],\n",
    "               plot_filter_symbols[filt], ms=10, mew=2, mec=plot_filter_colors[filt],\n",
    "               alpha=0.5, color='none', label=filt)\n",
    "    del fx\n",
    "\n",
    "ax[0].set_xlabel('Modified Julian Date')\n",
    "ax[0].set_ylabel('Difference-Image Flux')\n",
    "ax[0].set_title('Forced Photometry (ForcedSourceOnDiaObject)')\n",
    "ax[0].set_xlim(mjd_full_start, mjd_full_end)\n",
    "ax[0].legend(loc='upper left')\n",
    "ax[0].axvspan(mjd_det_start, mjd_det_end, alpha=0.3, color='gray')\n",
    "\n",
    "for f, filt in enumerate(plot_filter_labels):\n",
    "    fx = numpy.where(DiaSrc['filterName'] == filt)[0]\n",
    "    ax[1].plot(DiaSrc['midPointTai'][fx], DiaSrc['psFlux'][fx],\n",
    "               plot_filter_symbols[filt], ms=10, mew=0, color=plot_filter_colors[filt],\n",
    "               alpha=0.5, label=filt)\n",
    "    del fx\n",
    "\n",
    "ax[1].set_xlabel('Modified Julian Date')\n",
    "ax[1].set_title('SNR>5 Detections (DiaSource)')\n",
    "ax[1].set_xlim(mjd_full_start, mjd_full_end)\n",
    "ax[1].legend(loc='upper left')\n",
    "ax[1].axvspan(mjd_det_start, mjd_det_end, alpha=0.3, color='gray')\n",
    "plt.subplots_adjust(wspace=.0)\n",
    "\n",
    "plt.show()"
   ]
  },
  {
   "cell_type": "code",
   "execution_count": null,
   "id": "72ac1d12-2a00-45f9-afe3-9525c63305d8",
   "metadata": {},
   "outputs": [],
   "source": [
    "d"
   ]
  },
  {
   "cell_type": "code",
   "execution_count": 158,
   "id": "2753b228-2598-46b3-8a4c-c881d71059d1",
   "metadata": {},
   "outputs": [],
   "source": [
    "def fit_params(DiaObjID):\n",
    "    results = service.search(\"SELECT fsodo.band, \"\\\n",
    "                             \"fsodo.psfDiffFlux, fsodo.psfDiffFluxErr, \"\\\n",
    "                             \"cv.expMidptMJD \"\\\n",
    "                             \"FROM dp02_dc2_catalogs.ForcedSourceOnDiaObject as fsodo \"\\\n",
    "                             \"JOIN dp02_dc2_catalogs.CcdVisit as cv ON cv.ccdVisitId = fsodo.ccdVisitId \"\\\n",
    "                             \"WHERE fsodo.diaObjectId = \"+str(DiaObjID))\n",
    "\n",
    "\n",
    "    data = results.to_table().to_pandas()\n",
    "\n",
    "    data['band'] = ['lsst' + x for x in data['band']]\n",
    "    data.columns = ['band', 'flux', 'fluxerr', 'time']\n",
    "\n",
    "    data = data.query('flux / fluxerr > 5')\n",
    "    data['zp'] = 25\n",
    "    data['zpsys'] = 'ab'\n",
    "    data = Table.from_pandas(data)\n",
    "    model = sncosmo.Model(source='salt2')\n",
    "\n",
    "    # run the fit\n",
    "    result, fitted_model = sncosmo.fit_lc(\n",
    "        data, model,\n",
    "        ['z', 't0', 'x0', 'x1', 'c'],  # parameters of model to vary\n",
    "        bounds={'z':(0.3, 0.7)})  # bounds on parameters (if any)\n",
    "    \n",
    "    return result.parameters"
   ]
  },
  {
   "cell_type": "code",
   "execution_count": 159,
   "id": "e838ab94-6222-4d23-a4b0-a273038456cf",
   "metadata": {
    "collapsed": true,
    "jupyter": {
     "outputs_hidden": true
    },
    "tags": []
   },
   "outputs": [
    {
     "name": "stdout",
     "output_type": "stream",
     "text": [
      "1250030371572026200\n"
     ]
    },
    {
     "name": "stderr",
     "output_type": "stream",
     "text": [
      "/tmp/ipykernel_2847/4050759510.py:16: SettingWithCopyWarning: \n",
      "A value is trying to be set on a copy of a slice from a DataFrame.\n",
      "Try using .loc[row_indexer,col_indexer] = value instead\n",
      "\n",
      "See the caveats in the documentation: https://pandas.pydata.org/pandas-docs/stable/user_guide/indexing.html#returning-a-view-versus-a-copy\n",
      "  data['zp'] = 25\n",
      "/tmp/ipykernel_2847/4050759510.py:17: SettingWithCopyWarning: \n",
      "A value is trying to be set on a copy of a slice from a DataFrame.\n",
      "Try using .loc[row_indexer,col_indexer] = value instead\n",
      "\n",
      "See the caveats in the documentation: https://pandas.pydata.org/pandas-docs/stable/user_guide/indexing.html#returning-a-view-versus-a-copy\n",
      "  data['zpsys'] = 'ab'\n",
      "/home/ykwang1/.local/lib/python3.10/site-packages/sncosmo/fitting.py:187: RuntimeWarning: Dropping following bands from data: lsstu(out of model wavelength range)\n",
      "  warnings.warn(\"Dropping following bands from data: \" +\n"
     ]
    },
    {
     "name": "stdout",
     "output_type": "stream",
     "text": [
      "1253003451013536202\n"
     ]
    },
    {
     "name": "stderr",
     "output_type": "stream",
     "text": [
      "/tmp/ipykernel_2847/4050759510.py:16: SettingWithCopyWarning: \n",
      "A value is trying to be set on a copy of a slice from a DataFrame.\n",
      "Try using .loc[row_indexer,col_indexer] = value instead\n",
      "\n",
      "See the caveats in the documentation: https://pandas.pydata.org/pandas-docs/stable/user_guide/indexing.html#returning-a-view-versus-a-copy\n",
      "  data['zp'] = 25\n",
      "/tmp/ipykernel_2847/4050759510.py:17: SettingWithCopyWarning: \n",
      "A value is trying to be set on a copy of a slice from a DataFrame.\n",
      "Try using .loc[row_indexer,col_indexer] = value instead\n",
      "\n",
      "See the caveats in the documentation: https://pandas.pydata.org/pandas-docs/stable/user_guide/indexing.html#returning-a-view-versus-a-copy\n",
      "  data['zpsys'] = 'ab'\n"
     ]
    },
    {
     "name": "stdout",
     "output_type": "stream",
     "text": [
      "1326380459004793885\n"
     ]
    },
    {
     "name": "stderr",
     "output_type": "stream",
     "text": [
      "/tmp/ipykernel_2847/4050759510.py:16: SettingWithCopyWarning: \n",
      "A value is trying to be set on a copy of a slice from a DataFrame.\n",
      "Try using .loc[row_indexer,col_indexer] = value instead\n",
      "\n",
      "See the caveats in the documentation: https://pandas.pydata.org/pandas-docs/stable/user_guide/indexing.html#returning-a-view-versus-a-copy\n",
      "  data['zp'] = 25\n",
      "/tmp/ipykernel_2847/4050759510.py:17: SettingWithCopyWarning: \n",
      "A value is trying to be set on a copy of a slice from a DataFrame.\n",
      "Try using .loc[row_indexer,col_indexer] = value instead\n",
      "\n",
      "See the caveats in the documentation: https://pandas.pydata.org/pandas-docs/stable/user_guide/indexing.html#returning-a-view-versus-a-copy\n",
      "  data['zpsys'] = 'ab'\n"
     ]
    },
    {
     "name": "stdout",
     "output_type": "stream",
     "text": [
      "1325843897330440367\n"
     ]
    },
    {
     "name": "stderr",
     "output_type": "stream",
     "text": [
      "/tmp/ipykernel_2847/4050759510.py:16: SettingWithCopyWarning: \n",
      "A value is trying to be set on a copy of a slice from a DataFrame.\n",
      "Try using .loc[row_indexer,col_indexer] = value instead\n",
      "\n",
      "See the caveats in the documentation: https://pandas.pydata.org/pandas-docs/stable/user_guide/indexing.html#returning-a-view-versus-a-copy\n",
      "  data['zp'] = 25\n",
      "/tmp/ipykernel_2847/4050759510.py:17: SettingWithCopyWarning: \n",
      "A value is trying to be set on a copy of a slice from a DataFrame.\n",
      "Try using .loc[row_indexer,col_indexer] = value instead\n",
      "\n",
      "See the caveats in the documentation: https://pandas.pydata.org/pandas-docs/stable/user_guide/indexing.html#returning-a-view-versus-a-copy\n",
      "  data['zpsys'] = 'ab'\n"
     ]
    },
    {
     "name": "stdout",
     "output_type": "stream",
     "text": [
      "1326327682446658949\n"
     ]
    },
    {
     "name": "stderr",
     "output_type": "stream",
     "text": [
      "/tmp/ipykernel_2847/4050759510.py:16: SettingWithCopyWarning: \n",
      "A value is trying to be set on a copy of a slice from a DataFrame.\n",
      "Try using .loc[row_indexer,col_indexer] = value instead\n",
      "\n",
      "See the caveats in the documentation: https://pandas.pydata.org/pandas-docs/stable/user_guide/indexing.html#returning-a-view-versus-a-copy\n",
      "  data['zp'] = 25\n",
      "/tmp/ipykernel_2847/4050759510.py:17: SettingWithCopyWarning: \n",
      "A value is trying to be set on a copy of a slice from a DataFrame.\n",
      "Try using .loc[row_indexer,col_indexer] = value instead\n",
      "\n",
      "See the caveats in the documentation: https://pandas.pydata.org/pandas-docs/stable/user_guide/indexing.html#returning-a-view-versus-a-copy\n",
      "  data['zpsys'] = 'ab'\n"
     ]
    },
    {
     "name": "stdout",
     "output_type": "stream",
     "text": [
      "1327330437051190030\n"
     ]
    },
    {
     "name": "stderr",
     "output_type": "stream",
     "text": [
      "/tmp/ipykernel_2847/4050759510.py:16: SettingWithCopyWarning: \n",
      "A value is trying to be set on a copy of a slice from a DataFrame.\n",
      "Try using .loc[row_indexer,col_indexer] = value instead\n",
      "\n",
      "See the caveats in the documentation: https://pandas.pydata.org/pandas-docs/stable/user_guide/indexing.html#returning-a-view-versus-a-copy\n",
      "  data['zp'] = 25\n",
      "/tmp/ipykernel_2847/4050759510.py:17: SettingWithCopyWarning: \n",
      "A value is trying to be set on a copy of a slice from a DataFrame.\n",
      "Try using .loc[row_indexer,col_indexer] = value instead\n",
      "\n",
      "See the caveats in the documentation: https://pandas.pydata.org/pandas-docs/stable/user_guide/indexing.html#returning-a-view-versus-a-copy\n",
      "  data['zpsys'] = 'ab'\n"
     ]
    },
    {
     "name": "stdout",
     "output_type": "stream",
     "text": [
      "1405281413413996877\n"
     ]
    },
    {
     "name": "stderr",
     "output_type": "stream",
     "text": [
      "/tmp/ipykernel_2847/4050759510.py:16: SettingWithCopyWarning: \n",
      "A value is trying to be set on a copy of a slice from a DataFrame.\n",
      "Try using .loc[row_indexer,col_indexer] = value instead\n",
      "\n",
      "See the caveats in the documentation: https://pandas.pydata.org/pandas-docs/stable/user_guide/indexing.html#returning-a-view-versus-a-copy\n",
      "  data['zp'] = 25\n",
      "/tmp/ipykernel_2847/4050759510.py:17: SettingWithCopyWarning: \n",
      "A value is trying to be set on a copy of a slice from a DataFrame.\n",
      "Try using .loc[row_indexer,col_indexer] = value instead\n",
      "\n",
      "See the caveats in the documentation: https://pandas.pydata.org/pandas-docs/stable/user_guide/indexing.html#returning-a-view-versus-a-copy\n",
      "  data['zpsys'] = 'ab'\n",
      "/home/ykwang1/.local/lib/python3.10/site-packages/sncosmo/fitting.py:187: RuntimeWarning: Dropping following bands from data: lsstu(out of model wavelength range)\n",
      "  warnings.warn(\"Dropping following bands from data: \" +\n"
     ]
    },
    {
     "name": "stdout",
     "output_type": "stream",
     "text": [
      "1405642053227908375\n"
     ]
    },
    {
     "name": "stderr",
     "output_type": "stream",
     "text": [
      "/tmp/ipykernel_2847/4050759510.py:16: SettingWithCopyWarning: \n",
      "A value is trying to be set on a copy of a slice from a DataFrame.\n",
      "Try using .loc[row_indexer,col_indexer] = value instead\n",
      "\n",
      "See the caveats in the documentation: https://pandas.pydata.org/pandas-docs/stable/user_guide/indexing.html#returning-a-view-versus-a-copy\n",
      "  data['zp'] = 25\n",
      "/tmp/ipykernel_2847/4050759510.py:17: SettingWithCopyWarning: \n",
      "A value is trying to be set on a copy of a slice from a DataFrame.\n",
      "Try using .loc[row_indexer,col_indexer] = value instead\n",
      "\n",
      "See the caveats in the documentation: https://pandas.pydata.org/pandas-docs/stable/user_guide/indexing.html#returning-a-view-versus-a-copy\n",
      "  data['zpsys'] = 'ab'\n",
      "/home/ykwang1/.local/lib/python3.10/site-packages/sncosmo/fitting.py:187: RuntimeWarning: Dropping following bands from data: lsstu(out of model wavelength range)\n",
      "  warnings.warn(\"Dropping following bands from data: \" +\n"
     ]
    },
    {
     "name": "stdout",
     "output_type": "stream",
     "text": [
      "1406125838344129211\n"
     ]
    },
    {
     "name": "stderr",
     "output_type": "stream",
     "text": [
      "/tmp/ipykernel_2847/4050759510.py:16: SettingWithCopyWarning: \n",
      "A value is trying to be set on a copy of a slice from a DataFrame.\n",
      "Try using .loc[row_indexer,col_indexer] = value instead\n",
      "\n",
      "See the caveats in the documentation: https://pandas.pydata.org/pandas-docs/stable/user_guide/indexing.html#returning-a-view-versus-a-copy\n",
      "  data['zp'] = 25\n",
      "/tmp/ipykernel_2847/4050759510.py:17: SettingWithCopyWarning: \n",
      "A value is trying to be set on a copy of a slice from a DataFrame.\n",
      "Try using .loc[row_indexer,col_indexer] = value instead\n",
      "\n",
      "See the caveats in the documentation: https://pandas.pydata.org/pandas-docs/stable/user_guide/indexing.html#returning-a-view-versus-a-copy\n",
      "  data['zpsys'] = 'ab'\n",
      "/home/ykwang1/.local/lib/python3.10/site-packages/sncosmo/fitting.py:187: RuntimeWarning: Dropping following bands from data: lsstu(out of model wavelength range)\n",
      "  warnings.warn(\"Dropping following bands from data: \" +\n"
     ]
    },
    {
     "name": "stdout",
     "output_type": "stream",
     "text": [
      "1406213799274350020\n"
     ]
    },
    {
     "name": "stderr",
     "output_type": "stream",
     "text": [
      "/tmp/ipykernel_2847/4050759510.py:16: SettingWithCopyWarning: \n",
      "A value is trying to be set on a copy of a slice from a DataFrame.\n",
      "Try using .loc[row_indexer,col_indexer] = value instead\n",
      "\n",
      "See the caveats in the documentation: https://pandas.pydata.org/pandas-docs/stable/user_guide/indexing.html#returning-a-view-versus-a-copy\n",
      "  data['zp'] = 25\n",
      "/tmp/ipykernel_2847/4050759510.py:17: SettingWithCopyWarning: \n",
      "A value is trying to be set on a copy of a slice from a DataFrame.\n",
      "Try using .loc[row_indexer,col_indexer] = value instead\n",
      "\n",
      "See the caveats in the documentation: https://pandas.pydata.org/pandas-docs/stable/user_guide/indexing.html#returning-a-view-versus-a-copy\n",
      "  data['zpsys'] = 'ab'\n",
      "/home/ykwang1/.local/lib/python3.10/site-packages/sncosmo/fitting.py:187: RuntimeWarning: Dropping following bands from data: lsstu(out of model wavelength range)\n",
      "  warnings.warn(\"Dropping following bands from data: \" +\n"
     ]
    },
    {
     "name": "stdout",
     "output_type": "stream",
     "text": [
      "1487093874613555456\n"
     ]
    },
    {
     "name": "stderr",
     "output_type": "stream",
     "text": [
      "/tmp/ipykernel_2847/4050759510.py:16: SettingWithCopyWarning: \n",
      "A value is trying to be set on a copy of a slice from a DataFrame.\n",
      "Try using .loc[row_indexer,col_indexer] = value instead\n",
      "\n",
      "See the caveats in the documentation: https://pandas.pydata.org/pandas-docs/stable/user_guide/indexing.html#returning-a-view-versus-a-copy\n",
      "  data['zp'] = 25\n",
      "/tmp/ipykernel_2847/4050759510.py:17: SettingWithCopyWarning: \n",
      "A value is trying to be set on a copy of a slice from a DataFrame.\n",
      "Try using .loc[row_indexer,col_indexer] = value instead\n",
      "\n",
      "See the caveats in the documentation: https://pandas.pydata.org/pandas-docs/stable/user_guide/indexing.html#returning-a-view-versus-a-copy\n",
      "  data['zpsys'] = 'ab'\n"
     ]
    },
    {
     "name": "stdout",
     "output_type": "stream",
     "text": [
      "1486557312939198933\n"
     ]
    },
    {
     "name": "stderr",
     "output_type": "stream",
     "text": [
      "/tmp/ipykernel_2847/4050759510.py:16: SettingWithCopyWarning: \n",
      "A value is trying to be set on a copy of a slice from a DataFrame.\n",
      "Try using .loc[row_indexer,col_indexer] = value instead\n",
      "\n",
      "See the caveats in the documentation: https://pandas.pydata.org/pandas-docs/stable/user_guide/indexing.html#returning-a-view-versus-a-copy\n",
      "  data['zp'] = 25\n",
      "/tmp/ipykernel_2847/4050759510.py:17: SettingWithCopyWarning: \n",
      "A value is trying to be set on a copy of a slice from a DataFrame.\n",
      "Try using .loc[row_indexer,col_indexer] = value instead\n",
      "\n",
      "See the caveats in the documentation: https://pandas.pydata.org/pandas-docs/stable/user_guide/indexing.html#returning-a-view-versus-a-copy\n",
      "  data['zpsys'] = 'ab'\n"
     ]
    },
    {
     "name": "stdout",
     "output_type": "stream",
     "text": [
      "1407225349971904791\n"
     ]
    },
    {
     "name": "stderr",
     "output_type": "stream",
     "text": [
      "/tmp/ipykernel_2847/4050759510.py:16: SettingWithCopyWarning: \n",
      "A value is trying to be set on a copy of a slice from a DataFrame.\n",
      "Try using .loc[row_indexer,col_indexer] = value instead\n",
      "\n",
      "See the caveats in the documentation: https://pandas.pydata.org/pandas-docs/stable/user_guide/indexing.html#returning-a-view-versus-a-copy\n",
      "  data['zp'] = 25\n",
      "/tmp/ipykernel_2847/4050759510.py:17: SettingWithCopyWarning: \n",
      "A value is trying to be set on a copy of a slice from a DataFrame.\n",
      "Try using .loc[row_indexer,col_indexer] = value instead\n",
      "\n",
      "See the caveats in the documentation: https://pandas.pydata.org/pandas-docs/stable/user_guide/indexing.html#returning-a-view-versus-a-copy\n",
      "  data['zpsys'] = 'ab'\n"
     ]
    },
    {
     "name": "stdout",
     "output_type": "stream",
     "text": [
      "1485510577869556745\n"
     ]
    },
    {
     "name": "stderr",
     "output_type": "stream",
     "text": [
      "/tmp/ipykernel_2847/4050759510.py:16: SettingWithCopyWarning: \n",
      "A value is trying to be set on a copy of a slice from a DataFrame.\n",
      "Try using .loc[row_indexer,col_indexer] = value instead\n",
      "\n",
      "See the caveats in the documentation: https://pandas.pydata.org/pandas-docs/stable/user_guide/indexing.html#returning-a-view-versus-a-copy\n",
      "  data['zp'] = 25\n",
      "/tmp/ipykernel_2847/4050759510.py:17: SettingWithCopyWarning: \n",
      "A value is trying to be set on a copy of a slice from a DataFrame.\n",
      "Try using .loc[row_indexer,col_indexer] = value instead\n",
      "\n",
      "See the caveats in the documentation: https://pandas.pydata.org/pandas-docs/stable/user_guide/indexing.html#returning-a-view-versus-a-copy\n",
      "  data['zpsys'] = 'ab'\n",
      "/home/ykwang1/.local/lib/python3.10/site-packages/sncosmo/fitting.py:187: RuntimeWarning: Dropping following bands from data: lsstu(out of model wavelength range)\n",
      "  warnings.warn(\"Dropping following bands from data: \" +\n"
     ]
    },
    {
     "name": "stdout",
     "output_type": "stream",
     "text": [
      "1486055935636936754\n"
     ]
    },
    {
     "name": "stderr",
     "output_type": "stream",
     "text": [
      "/tmp/ipykernel_2847/4050759510.py:16: SettingWithCopyWarning: \n",
      "A value is trying to be set on a copy of a slice from a DataFrame.\n",
      "Try using .loc[row_indexer,col_indexer] = value instead\n",
      "\n",
      "See the caveats in the documentation: https://pandas.pydata.org/pandas-docs/stable/user_guide/indexing.html#returning-a-view-versus-a-copy\n",
      "  data['zp'] = 25\n",
      "/tmp/ipykernel_2847/4050759510.py:17: SettingWithCopyWarning: \n",
      "A value is trying to be set on a copy of a slice from a DataFrame.\n",
      "Try using .loc[row_indexer,col_indexer] = value instead\n",
      "\n",
      "See the caveats in the documentation: https://pandas.pydata.org/pandas-docs/stable/user_guide/indexing.html#returning-a-view-versus-a-copy\n",
      "  data['zpsys'] = 'ab'\n"
     ]
    },
    {
     "name": "stdout",
     "output_type": "stream",
     "text": [
      "1568026726510894110\n"
     ]
    },
    {
     "name": "stderr",
     "output_type": "stream",
     "text": [
      "/tmp/ipykernel_2847/4050759510.py:16: SettingWithCopyWarning: \n",
      "A value is trying to be set on a copy of a slice from a DataFrame.\n",
      "Try using .loc[row_indexer,col_indexer] = value instead\n",
      "\n",
      "See the caveats in the documentation: https://pandas.pydata.org/pandas-docs/stable/user_guide/indexing.html#returning-a-view-versus-a-copy\n",
      "  data['zp'] = 25\n",
      "/tmp/ipykernel_2847/4050759510.py:17: SettingWithCopyWarning: \n",
      "A value is trying to be set on a copy of a slice from a DataFrame.\n",
      "Try using .loc[row_indexer,col_indexer] = value instead\n",
      "\n",
      "See the caveats in the documentation: https://pandas.pydata.org/pandas-docs/stable/user_guide/indexing.html#returning-a-view-versus-a-copy\n",
      "  data['zpsys'] = 'ab'\n",
      "/home/ykwang1/.local/lib/python3.10/site-packages/sncosmo/fitting.py:187: RuntimeWarning: Dropping following bands from data: lsstu(out of model wavelength range)\n",
      "  warnings.warn(\"Dropping following bands from data: \" +\n"
     ]
    },
    {
     "name": "stdout",
     "output_type": "stream",
     "text": [
      "1568281813208534491\n"
     ]
    },
    {
     "name": "stderr",
     "output_type": "stream",
     "text": [
      "/tmp/ipykernel_2847/4050759510.py:16: SettingWithCopyWarning: \n",
      "A value is trying to be set on a copy of a slice from a DataFrame.\n",
      "Try using .loc[row_indexer,col_indexer] = value instead\n",
      "\n",
      "See the caveats in the documentation: https://pandas.pydata.org/pandas-docs/stable/user_guide/indexing.html#returning-a-view-versus-a-copy\n",
      "  data['zp'] = 25\n",
      "/tmp/ipykernel_2847/4050759510.py:17: SettingWithCopyWarning: \n",
      "A value is trying to be set on a copy of a slice from a DataFrame.\n",
      "Try using .loc[row_indexer,col_indexer] = value instead\n",
      "\n",
      "See the caveats in the documentation: https://pandas.pydata.org/pandas-docs/stable/user_guide/indexing.html#returning-a-view-versus-a-copy\n",
      "  data['zpsys'] = 'ab'\n"
     ]
    },
    {
     "name": "stdout",
     "output_type": "stream",
     "text": [
      "1565766130604183159\n"
     ]
    },
    {
     "name": "stderr",
     "output_type": "stream",
     "text": [
      "/tmp/ipykernel_2847/4050759510.py:16: SettingWithCopyWarning: \n",
      "A value is trying to be set on a copy of a slice from a DataFrame.\n",
      "Try using .loc[row_indexer,col_indexer] = value instead\n",
      "\n",
      "See the caveats in the documentation: https://pandas.pydata.org/pandas-docs/stable/user_guide/indexing.html#returning-a-view-versus-a-copy\n",
      "  data['zp'] = 25\n",
      "/tmp/ipykernel_2847/4050759510.py:17: SettingWithCopyWarning: \n",
      "A value is trying to be set on a copy of a slice from a DataFrame.\n",
      "Try using .loc[row_indexer,col_indexer] = value instead\n",
      "\n",
      "See the caveats in the documentation: https://pandas.pydata.org/pandas-docs/stable/user_guide/indexing.html#returning-a-view-versus-a-copy\n",
      "  data['zpsys'] = 'ab'\n"
     ]
    },
    {
     "name": "stdout",
     "output_type": "stream",
     "text": [
      "1568923927999156228\n"
     ]
    },
    {
     "name": "stderr",
     "output_type": "stream",
     "text": [
      "/tmp/ipykernel_2847/4050759510.py:16: SettingWithCopyWarning: \n",
      "A value is trying to be set on a copy of a slice from a DataFrame.\n",
      "Try using .loc[row_indexer,col_indexer] = value instead\n",
      "\n",
      "See the caveats in the documentation: https://pandas.pydata.org/pandas-docs/stable/user_guide/indexing.html#returning-a-view-versus-a-copy\n",
      "  data['zp'] = 25\n",
      "/tmp/ipykernel_2847/4050759510.py:17: SettingWithCopyWarning: \n",
      "A value is trying to be set on a copy of a slice from a DataFrame.\n",
      "Try using .loc[row_indexer,col_indexer] = value instead\n",
      "\n",
      "See the caveats in the documentation: https://pandas.pydata.org/pandas-docs/stable/user_guide/indexing.html#returning-a-view-versus-a-copy\n",
      "  data['zpsys'] = 'ab'\n",
      "/home/ykwang1/.local/lib/python3.10/site-packages/sncosmo/fitting.py:187: RuntimeWarning: Dropping following bands from data: lsstu(out of model wavelength range)\n",
      "  warnings.warn(\"Dropping following bands from data: \" +\n"
     ]
    },
    {
     "name": "stdout",
     "output_type": "stream",
     "text": [
      "1568220240557378636\n"
     ]
    },
    {
     "name": "stderr",
     "output_type": "stream",
     "text": [
      "/tmp/ipykernel_2847/4050759510.py:16: SettingWithCopyWarning: \n",
      "A value is trying to be set on a copy of a slice from a DataFrame.\n",
      "Try using .loc[row_indexer,col_indexer] = value instead\n",
      "\n",
      "See the caveats in the documentation: https://pandas.pydata.org/pandas-docs/stable/user_guide/indexing.html#returning-a-view-versus-a-copy\n",
      "  data['zp'] = 25\n",
      "/tmp/ipykernel_2847/4050759510.py:17: SettingWithCopyWarning: \n",
      "A value is trying to be set on a copy of a slice from a DataFrame.\n",
      "Try using .loc[row_indexer,col_indexer] = value instead\n",
      "\n",
      "See the caveats in the documentation: https://pandas.pydata.org/pandas-docs/stable/user_guide/indexing.html#returning-a-view-versus-a-copy\n",
      "  data['zpsys'] = 'ab'\n"
     ]
    },
    {
     "name": "stdout",
     "output_type": "stream",
     "text": [
      "1570041031812976799\n"
     ]
    },
    {
     "name": "stderr",
     "output_type": "stream",
     "text": [
      "/tmp/ipykernel_2847/4050759510.py:16: SettingWithCopyWarning: \n",
      "A value is trying to be set on a copy of a slice from a DataFrame.\n",
      "Try using .loc[row_indexer,col_indexer] = value instead\n",
      "\n",
      "See the caveats in the documentation: https://pandas.pydata.org/pandas-docs/stable/user_guide/indexing.html#returning-a-view-versus-a-copy\n",
      "  data['zp'] = 25\n",
      "/tmp/ipykernel_2847/4050759510.py:17: SettingWithCopyWarning: \n",
      "A value is trying to be set on a copy of a slice from a DataFrame.\n",
      "Try using .loc[row_indexer,col_indexer] = value instead\n",
      "\n",
      "See the caveats in the documentation: https://pandas.pydata.org/pandas-docs/stable/user_guide/indexing.html#returning-a-view-versus-a-copy\n",
      "  data['zpsys'] = 'ab'\n"
     ]
    },
    {
     "name": "stdout",
     "output_type": "stream",
     "text": [
      "1570524816929197110\n"
     ]
    },
    {
     "name": "stderr",
     "output_type": "stream",
     "text": [
      "/tmp/ipykernel_2847/4050759510.py:16: SettingWithCopyWarning: \n",
      "A value is trying to be set on a copy of a slice from a DataFrame.\n",
      "Try using .loc[row_indexer,col_indexer] = value instead\n",
      "\n",
      "See the caveats in the documentation: https://pandas.pydata.org/pandas-docs/stable/user_guide/indexing.html#returning-a-view-versus-a-copy\n",
      "  data['zp'] = 25\n",
      "/tmp/ipykernel_2847/4050759510.py:17: SettingWithCopyWarning: \n",
      "A value is trying to be set on a copy of a slice from a DataFrame.\n",
      "Try using .loc[row_indexer,col_indexer] = value instead\n",
      "\n",
      "See the caveats in the documentation: https://pandas.pydata.org/pandas-docs/stable/user_guide/indexing.html#returning-a-view-versus-a-copy\n",
      "  data['zpsys'] = 'ab'\n"
     ]
    },
    {
     "name": "stdout",
     "output_type": "stream",
     "text": [
      "1737668176537194802\n"
     ]
    },
    {
     "name": "stderr",
     "output_type": "stream",
     "text": [
      "/tmp/ipykernel_2847/4050759510.py:16: SettingWithCopyWarning: \n",
      "A value is trying to be set on a copy of a slice from a DataFrame.\n",
      "Try using .loc[row_indexer,col_indexer] = value instead\n",
      "\n",
      "See the caveats in the documentation: https://pandas.pydata.org/pandas-docs/stable/user_guide/indexing.html#returning-a-view-versus-a-copy\n",
      "  data['zp'] = 25\n",
      "/tmp/ipykernel_2847/4050759510.py:17: SettingWithCopyWarning: \n",
      "A value is trying to be set on a copy of a slice from a DataFrame.\n",
      "Try using .loc[row_indexer,col_indexer] = value instead\n",
      "\n",
      "See the caveats in the documentation: https://pandas.pydata.org/pandas-docs/stable/user_guide/indexing.html#returning-a-view-versus-a-copy\n",
      "  data['zpsys'] = 'ab'\n",
      "/home/ykwang1/.local/lib/python3.10/site-packages/sncosmo/fitting.py:187: RuntimeWarning: Dropping following bands from data: lsstu(out of model wavelength range)\n",
      "  warnings.warn(\"Dropping following bands from data: \" +\n"
     ]
    },
    {
     "name": "stdout",
     "output_type": "stream",
     "text": [
      "1735460357188621288\n"
     ]
    },
    {
     "name": "stderr",
     "output_type": "stream",
     "text": [
      "/tmp/ipykernel_2847/4050759510.py:16: SettingWithCopyWarning: \n",
      "A value is trying to be set on a copy of a slice from a DataFrame.\n",
      "Try using .loc[row_indexer,col_indexer] = value instead\n",
      "\n",
      "See the caveats in the documentation: https://pandas.pydata.org/pandas-docs/stable/user_guide/indexing.html#returning-a-view-versus-a-copy\n",
      "  data['zp'] = 25\n",
      "/tmp/ipykernel_2847/4050759510.py:17: SettingWithCopyWarning: \n",
      "A value is trying to be set on a copy of a slice from a DataFrame.\n",
      "Try using .loc[row_indexer,col_indexer] = value instead\n",
      "\n",
      "See the caveats in the documentation: https://pandas.pydata.org/pandas-docs/stable/user_guide/indexing.html#returning-a-view-versus-a-copy\n",
      "  data['zpsys'] = 'ab'\n"
     ]
    },
    {
     "name": "stdout",
     "output_type": "stream",
     "text": [
      "1821873175038791702\n"
     ]
    },
    {
     "name": "stderr",
     "output_type": "stream",
     "text": [
      "/tmp/ipykernel_2847/4050759510.py:16: SettingWithCopyWarning: \n",
      "A value is trying to be set on a copy of a slice from a DataFrame.\n",
      "Try using .loc[row_indexer,col_indexer] = value instead\n",
      "\n",
      "See the caveats in the documentation: https://pandas.pydata.org/pandas-docs/stable/user_guide/indexing.html#returning-a-view-versus-a-copy\n",
      "  data['zp'] = 25\n",
      "/tmp/ipykernel_2847/4050759510.py:17: SettingWithCopyWarning: \n",
      "A value is trying to be set on a copy of a slice from a DataFrame.\n",
      "Try using .loc[row_indexer,col_indexer] = value instead\n",
      "\n",
      "See the caveats in the documentation: https://pandas.pydata.org/pandas-docs/stable/user_guide/indexing.html#returning-a-view-versus-a-copy\n",
      "  data['zpsys'] = 'ab'\n"
     ]
    },
    {
     "name": "stdout",
     "output_type": "stream",
     "text": [
      "1739084347513770959\n"
     ]
    },
    {
     "name": "stderr",
     "output_type": "stream",
     "text": [
      "/tmp/ipykernel_2847/4050759510.py:16: SettingWithCopyWarning: \n",
      "A value is trying to be set on a copy of a slice from a DataFrame.\n",
      "Try using .loc[row_indexer,col_indexer] = value instead\n",
      "\n",
      "See the caveats in the documentation: https://pandas.pydata.org/pandas-docs/stable/user_guide/indexing.html#returning-a-view-versus-a-copy\n",
      "  data['zp'] = 25\n",
      "/tmp/ipykernel_2847/4050759510.py:17: SettingWithCopyWarning: \n",
      "A value is trying to be set on a copy of a slice from a DataFrame.\n",
      "Try using .loc[row_indexer,col_indexer] = value instead\n",
      "\n",
      "See the caveats in the documentation: https://pandas.pydata.org/pandas-docs/stable/user_guide/indexing.html#returning-a-view-versus-a-copy\n",
      "  data['zpsys'] = 'ab'\n",
      "/home/ykwang1/.local/lib/python3.10/site-packages/sncosmo/fitting.py:187: RuntimeWarning: Dropping following bands from data: lsstu(out of model wavelength range)\n",
      "  warnings.warn(\"Dropping following bands from data: \" +\n"
     ]
    },
    {
     "name": "stdout",
     "output_type": "stream",
     "text": [
      "1825796232526695593\n"
     ]
    },
    {
     "name": "stderr",
     "output_type": "stream",
     "text": [
      "/tmp/ipykernel_2847/4050759510.py:16: SettingWithCopyWarning: \n",
      "A value is trying to be set on a copy of a slice from a DataFrame.\n",
      "Try using .loc[row_indexer,col_indexer] = value instead\n",
      "\n",
      "See the caveats in the documentation: https://pandas.pydata.org/pandas-docs/stable/user_guide/indexing.html#returning-a-view-versus-a-copy\n",
      "  data['zp'] = 25\n",
      "/tmp/ipykernel_2847/4050759510.py:17: SettingWithCopyWarning: \n",
      "A value is trying to be set on a copy of a slice from a DataFrame.\n",
      "Try using .loc[row_indexer,col_indexer] = value instead\n",
      "\n",
      "See the caveats in the documentation: https://pandas.pydata.org/pandas-docs/stable/user_guide/indexing.html#returning-a-view-versus-a-copy\n",
      "  data['zpsys'] = 'ab'\n",
      "/home/ykwang1/.local/lib/python3.10/site-packages/sncosmo/fitting.py:187: RuntimeWarning: Dropping following bands from data: lsstu(out of model wavelength range)\n",
      "  warnings.warn(\"Dropping following bands from data: \" +\n"
     ]
    },
    {
     "name": "stdout",
     "output_type": "stream",
     "text": [
      "1735777016537416922\n"
     ]
    },
    {
     "name": "stderr",
     "output_type": "stream",
     "text": [
      "/tmp/ipykernel_2847/4050759510.py:16: SettingWithCopyWarning: \n",
      "A value is trying to be set on a copy of a slice from a DataFrame.\n",
      "Try using .loc[row_indexer,col_indexer] = value instead\n",
      "\n",
      "See the caveats in the documentation: https://pandas.pydata.org/pandas-docs/stable/user_guide/indexing.html#returning-a-view-versus-a-copy\n",
      "  data['zp'] = 25\n",
      "/tmp/ipykernel_2847/4050759510.py:17: SettingWithCopyWarning: \n",
      "A value is trying to be set on a copy of a slice from a DataFrame.\n",
      "Try using .loc[row_indexer,col_indexer] = value instead\n",
      "\n",
      "See the caveats in the documentation: https://pandas.pydata.org/pandas-docs/stable/user_guide/indexing.html#returning-a-view-versus-a-copy\n",
      "  data['zpsys'] = 'ab'\n"
     ]
    },
    {
     "name": "stdout",
     "output_type": "stream",
     "text": [
      "1911672488702513680\n"
     ]
    },
    {
     "name": "stderr",
     "output_type": "stream",
     "text": [
      "/tmp/ipykernel_2847/4050759510.py:16: SettingWithCopyWarning: \n",
      "A value is trying to be set on a copy of a slice from a DataFrame.\n",
      "Try using .loc[row_indexer,col_indexer] = value instead\n",
      "\n",
      "See the caveats in the documentation: https://pandas.pydata.org/pandas-docs/stable/user_guide/indexing.html#returning-a-view-versus-a-copy\n",
      "  data['zp'] = 25\n",
      "/tmp/ipykernel_2847/4050759510.py:17: SettingWithCopyWarning: \n",
      "A value is trying to be set on a copy of a slice from a DataFrame.\n",
      "Try using .loc[row_indexer,col_indexer] = value instead\n",
      "\n",
      "See the caveats in the documentation: https://pandas.pydata.org/pandas-docs/stable/user_guide/indexing.html#returning-a-view-versus-a-copy\n",
      "  data['zpsys'] = 'ab'\n"
     ]
    },
    {
     "name": "stdout",
     "output_type": "stream",
     "text": [
      "1909878085725985884\n"
     ]
    },
    {
     "name": "stderr",
     "output_type": "stream",
     "text": [
      "/tmp/ipykernel_2847/4050759510.py:16: SettingWithCopyWarning: \n",
      "A value is trying to be set on a copy of a slice from a DataFrame.\n",
      "Try using .loc[row_indexer,col_indexer] = value instead\n",
      "\n",
      "See the caveats in the documentation: https://pandas.pydata.org/pandas-docs/stable/user_guide/indexing.html#returning-a-view-versus-a-copy\n",
      "  data['zp'] = 25\n",
      "/tmp/ipykernel_2847/4050759510.py:17: SettingWithCopyWarning: \n",
      "A value is trying to be set on a copy of a slice from a DataFrame.\n",
      "Try using .loc[row_indexer,col_indexer] = value instead\n",
      "\n",
      "See the caveats in the documentation: https://pandas.pydata.org/pandas-docs/stable/user_guide/indexing.html#returning-a-view-versus-a-copy\n",
      "  data['zpsys'] = 'ab'\n"
     ]
    },
    {
     "name": "stdout",
     "output_type": "stream",
     "text": [
      "1911039170004913926\n"
     ]
    },
    {
     "name": "stderr",
     "output_type": "stream",
     "text": [
      "/tmp/ipykernel_2847/4050759510.py:16: SettingWithCopyWarning: \n",
      "A value is trying to be set on a copy of a slice from a DataFrame.\n",
      "Try using .loc[row_indexer,col_indexer] = value instead\n",
      "\n",
      "See the caveats in the documentation: https://pandas.pydata.org/pandas-docs/stable/user_guide/indexing.html#returning-a-view-versus-a-copy\n",
      "  data['zp'] = 25\n",
      "/tmp/ipykernel_2847/4050759510.py:17: SettingWithCopyWarning: \n",
      "A value is trying to be set on a copy of a slice from a DataFrame.\n",
      "Try using .loc[row_indexer,col_indexer] = value instead\n",
      "\n",
      "See the caveats in the documentation: https://pandas.pydata.org/pandas-docs/stable/user_guide/indexing.html#returning-a-view-versus-a-copy\n",
      "  data['zpsys'] = 'ab'\n"
     ]
    },
    {
     "name": "stdout",
     "output_type": "stream",
     "text": [
      "1910924820795625873\n"
     ]
    },
    {
     "name": "stderr",
     "output_type": "stream",
     "text": [
      "/tmp/ipykernel_2847/4050759510.py:16: SettingWithCopyWarning: \n",
      "A value is trying to be set on a copy of a slice from a DataFrame.\n",
      "Try using .loc[row_indexer,col_indexer] = value instead\n",
      "\n",
      "See the caveats in the documentation: https://pandas.pydata.org/pandas-docs/stable/user_guide/indexing.html#returning-a-view-versus-a-copy\n",
      "  data['zp'] = 25\n",
      "/tmp/ipykernel_2847/4050759510.py:17: SettingWithCopyWarning: \n",
      "A value is trying to be set on a copy of a slice from a DataFrame.\n",
      "Try using .loc[row_indexer,col_indexer] = value instead\n",
      "\n",
      "See the caveats in the documentation: https://pandas.pydata.org/pandas-docs/stable/user_guide/indexing.html#returning-a-view-versus-a-copy\n",
      "  data['zpsys'] = 'ab'\n",
      "/home/ykwang1/.local/lib/python3.10/site-packages/sncosmo/fitting.py:187: RuntimeWarning: Dropping following bands from data: lsstu(out of model wavelength range)\n",
      "  warnings.warn(\"Dropping following bands from data: \" +\n"
     ]
    },
    {
     "name": "stdout",
     "output_type": "stream",
     "text": [
      "1653700672547196623\n"
     ]
    },
    {
     "name": "stderr",
     "output_type": "stream",
     "text": [
      "/tmp/ipykernel_2847/4050759510.py:16: SettingWithCopyWarning: \n",
      "A value is trying to be set on a copy of a slice from a DataFrame.\n",
      "Try using .loc[row_indexer,col_indexer] = value instead\n",
      "\n",
      "See the caveats in the documentation: https://pandas.pydata.org/pandas-docs/stable/user_guide/indexing.html#returning-a-view-versus-a-copy\n",
      "  data['zp'] = 25\n",
      "/tmp/ipykernel_2847/4050759510.py:17: SettingWithCopyWarning: \n",
      "A value is trying to be set on a copy of a slice from a DataFrame.\n",
      "Try using .loc[row_indexer,col_indexer] = value instead\n",
      "\n",
      "See the caveats in the documentation: https://pandas.pydata.org/pandas-docs/stable/user_guide/indexing.html#returning-a-view-versus-a-copy\n",
      "  data['zpsys'] = 'ab'\n"
     ]
    },
    {
     "name": "stdout",
     "output_type": "stream",
     "text": [
      "1738794076444037881\n"
     ]
    },
    {
     "name": "stderr",
     "output_type": "stream",
     "text": [
      "/tmp/ipykernel_2847/4050759510.py:16: SettingWithCopyWarning: \n",
      "A value is trying to be set on a copy of a slice from a DataFrame.\n",
      "Try using .loc[row_indexer,col_indexer] = value instead\n",
      "\n",
      "See the caveats in the documentation: https://pandas.pydata.org/pandas-docs/stable/user_guide/indexing.html#returning-a-view-versus-a-copy\n",
      "  data['zp'] = 25\n",
      "/tmp/ipykernel_2847/4050759510.py:17: SettingWithCopyWarning: \n",
      "A value is trying to be set on a copy of a slice from a DataFrame.\n",
      "Try using .loc[row_indexer,col_indexer] = value instead\n",
      "\n",
      "See the caveats in the documentation: https://pandas.pydata.org/pandas-docs/stable/user_guide/indexing.html#returning-a-view-versus-a-copy\n",
      "  data['zpsys'] = 'ab'\n"
     ]
    },
    {
     "name": "stdout",
     "output_type": "stream",
     "text": [
      "1911496566842068570\n"
     ]
    },
    {
     "name": "stderr",
     "output_type": "stream",
     "text": [
      "/tmp/ipykernel_2847/4050759510.py:16: SettingWithCopyWarning: \n",
      "A value is trying to be set on a copy of a slice from a DataFrame.\n",
      "Try using .loc[row_indexer,col_indexer] = value instead\n",
      "\n",
      "See the caveats in the documentation: https://pandas.pydata.org/pandas-docs/stable/user_guide/indexing.html#returning-a-view-versus-a-copy\n",
      "  data['zp'] = 25\n",
      "/tmp/ipykernel_2847/4050759510.py:17: SettingWithCopyWarning: \n",
      "A value is trying to be set on a copy of a slice from a DataFrame.\n",
      "Try using .loc[row_indexer,col_indexer] = value instead\n",
      "\n",
      "See the caveats in the documentation: https://pandas.pydata.org/pandas-docs/stable/user_guide/indexing.html#returning-a-view-versus-a-copy\n",
      "  data['zpsys'] = 'ab'\n"
     ]
    },
    {
     "name": "stdout",
     "output_type": "stream",
     "text": [
      "2000900056319790201\n"
     ]
    },
    {
     "name": "stderr",
     "output_type": "stream",
     "text": [
      "/tmp/ipykernel_2847/4050759510.py:16: SettingWithCopyWarning: \n",
      "A value is trying to be set on a copy of a slice from a DataFrame.\n",
      "Try using .loc[row_indexer,col_indexer] = value instead\n",
      "\n",
      "See the caveats in the documentation: https://pandas.pydata.org/pandas-docs/stable/user_guide/indexing.html#returning-a-view-versus-a-copy\n",
      "  data['zp'] = 25\n",
      "/tmp/ipykernel_2847/4050759510.py:17: SettingWithCopyWarning: \n",
      "A value is trying to be set on a copy of a slice from a DataFrame.\n",
      "Try using .loc[row_indexer,col_indexer] = value instead\n",
      "\n",
      "See the caveats in the documentation: https://pandas.pydata.org/pandas-docs/stable/user_guide/indexing.html#returning-a-view-versus-a-copy\n",
      "  data['zpsys'] = 'ab'\n",
      "/home/ykwang1/.local/lib/python3.10/site-packages/sncosmo/fitting.py:187: RuntimeWarning: Dropping following bands from data: lsstu(out of model wavelength range)\n",
      "  warnings.warn(\"Dropping following bands from data: \" +\n"
     ]
    },
    {
     "name": "stdout",
     "output_type": "stream",
     "text": [
      "1737589011699992987\n"
     ]
    },
    {
     "name": "stderr",
     "output_type": "stream",
     "text": [
      "/tmp/ipykernel_2847/4050759510.py:16: SettingWithCopyWarning: \n",
      "A value is trying to be set on a copy of a slice from a DataFrame.\n",
      "Try using .loc[row_indexer,col_indexer] = value instead\n",
      "\n",
      "See the caveats in the documentation: https://pandas.pydata.org/pandas-docs/stable/user_guide/indexing.html#returning-a-view-versus-a-copy\n",
      "  data['zp'] = 25\n",
      "/tmp/ipykernel_2847/4050759510.py:17: SettingWithCopyWarning: \n",
      "A value is trying to be set on a copy of a slice from a DataFrame.\n",
      "Try using .loc[row_indexer,col_indexer] = value instead\n",
      "\n",
      "See the caveats in the documentation: https://pandas.pydata.org/pandas-docs/stable/user_guide/indexing.html#returning-a-view-versus-a-copy\n",
      "  data['zpsys'] = 'ab'\n"
     ]
    },
    {
     "name": "stdout",
     "output_type": "stream",
     "text": [
      "2092995150262308822\n"
     ]
    },
    {
     "name": "stderr",
     "output_type": "stream",
     "text": [
      "/tmp/ipykernel_2847/4050759510.py:16: SettingWithCopyWarning: \n",
      "A value is trying to be set on a copy of a slice from a DataFrame.\n",
      "Try using .loc[row_indexer,col_indexer] = value instead\n",
      "\n",
      "See the caveats in the documentation: https://pandas.pydata.org/pandas-docs/stable/user_guide/indexing.html#returning-a-view-versus-a-copy\n",
      "  data['zp'] = 25\n",
      "/tmp/ipykernel_2847/4050759510.py:17: SettingWithCopyWarning: \n",
      "A value is trying to be set on a copy of a slice from a DataFrame.\n",
      "Try using .loc[row_indexer,col_indexer] = value instead\n",
      "\n",
      "See the caveats in the documentation: https://pandas.pydata.org/pandas-docs/stable/user_guide/indexing.html#returning-a-view-versus-a-copy\n",
      "  data['zpsys'] = 'ab'\n",
      "/home/ykwang1/.local/lib/python3.10/site-packages/sncosmo/fitting.py:187: RuntimeWarning: Dropping following bands from data: lsstu(out of model wavelength range)\n",
      "  warnings.warn(\"Dropping following bands from data: \" +\n"
     ]
    },
    {
     "name": "stdout",
     "output_type": "stream",
     "text": [
      "2093100703378576389\n"
     ]
    },
    {
     "name": "stderr",
     "output_type": "stream",
     "text": [
      "/tmp/ipykernel_2847/4050759510.py:16: SettingWithCopyWarning: \n",
      "A value is trying to be set on a copy of a slice from a DataFrame.\n",
      "Try using .loc[row_indexer,col_indexer] = value instead\n",
      "\n",
      "See the caveats in the documentation: https://pandas.pydata.org/pandas-docs/stable/user_guide/indexing.html#returning-a-view-versus-a-copy\n",
      "  data['zp'] = 25\n",
      "/tmp/ipykernel_2847/4050759510.py:17: SettingWithCopyWarning: \n",
      "A value is trying to be set on a copy of a slice from a DataFrame.\n",
      "Try using .loc[row_indexer,col_indexer] = value instead\n",
      "\n",
      "See the caveats in the documentation: https://pandas.pydata.org/pandas-docs/stable/user_guide/indexing.html#returning-a-view-versus-a-copy\n",
      "  data['zpsys'] = 'ab'\n",
      "/home/ykwang1/.local/lib/python3.10/site-packages/sncosmo/fitting.py:187: RuntimeWarning: Dropping following bands from data: lsstu(out of model wavelength range)\n",
      "  warnings.warn(\"Dropping following bands from data: \" +\n"
     ]
    },
    {
     "name": "stdout",
     "output_type": "stream",
     "text": [
      "2092449792494933339\n"
     ]
    },
    {
     "name": "stderr",
     "output_type": "stream",
     "text": [
      "/tmp/ipykernel_2847/4050759510.py:16: SettingWithCopyWarning: \n",
      "A value is trying to be set on a copy of a slice from a DataFrame.\n",
      "Try using .loc[row_indexer,col_indexer] = value instead\n",
      "\n",
      "See the caveats in the documentation: https://pandas.pydata.org/pandas-docs/stable/user_guide/indexing.html#returning-a-view-versus-a-copy\n",
      "  data['zp'] = 25\n",
      "/tmp/ipykernel_2847/4050759510.py:17: SettingWithCopyWarning: \n",
      "A value is trying to be set on a copy of a slice from a DataFrame.\n",
      "Try using .loc[row_indexer,col_indexer] = value instead\n",
      "\n",
      "See the caveats in the documentation: https://pandas.pydata.org/pandas-docs/stable/user_guide/indexing.html#returning-a-view-versus-a-copy\n",
      "  data['zpsys'] = 'ab'\n",
      "/home/ykwang1/.local/lib/python3.10/site-packages/sncosmo/fitting.py:187: RuntimeWarning: Dropping following bands from data: lsstu(out of model wavelength range)\n",
      "  warnings.warn(\"Dropping following bands from data: \" +\n"
     ]
    },
    {
     "name": "stdout",
     "output_type": "stream",
     "text": [
      "2089793372402222137\n"
     ]
    },
    {
     "name": "stderr",
     "output_type": "stream",
     "text": [
      "/tmp/ipykernel_2847/4050759510.py:16: SettingWithCopyWarning: \n",
      "A value is trying to be set on a copy of a slice from a DataFrame.\n",
      "Try using .loc[row_indexer,col_indexer] = value instead\n",
      "\n",
      "See the caveats in the documentation: https://pandas.pydata.org/pandas-docs/stable/user_guide/indexing.html#returning-a-view-versus-a-copy\n",
      "  data['zp'] = 25\n",
      "/tmp/ipykernel_2847/4050759510.py:17: SettingWithCopyWarning: \n",
      "A value is trying to be set on a copy of a slice from a DataFrame.\n",
      "Try using .loc[row_indexer,col_indexer] = value instead\n",
      "\n",
      "See the caveats in the documentation: https://pandas.pydata.org/pandas-docs/stable/user_guide/indexing.html#returning-a-view-versus-a-copy\n",
      "  data['zpsys'] = 'ab'\n"
     ]
    },
    {
     "name": "stdout",
     "output_type": "stream",
     "text": [
      "2093303013518086339\n"
     ]
    },
    {
     "name": "stderr",
     "output_type": "stream",
     "text": [
      "/tmp/ipykernel_2847/4050759510.py:16: SettingWithCopyWarning: \n",
      "A value is trying to be set on a copy of a slice from a DataFrame.\n",
      "Try using .loc[row_indexer,col_indexer] = value instead\n",
      "\n",
      "See the caveats in the documentation: https://pandas.pydata.org/pandas-docs/stable/user_guide/indexing.html#returning-a-view-versus-a-copy\n",
      "  data['zp'] = 25\n",
      "/tmp/ipykernel_2847/4050759510.py:17: SettingWithCopyWarning: \n",
      "A value is trying to be set on a copy of a slice from a DataFrame.\n",
      "Try using .loc[row_indexer,col_indexer] = value instead\n",
      "\n",
      "See the caveats in the documentation: https://pandas.pydata.org/pandas-docs/stable/user_guide/indexing.html#returning-a-view-versus-a-copy\n",
      "  data['zpsys'] = 'ab'\n",
      "/home/ykwang1/.local/lib/python3.10/site-packages/sncosmo/fitting.py:187: RuntimeWarning: Dropping following bands from data: lsstu(out of model wavelength range)\n",
      "  warnings.warn(\"Dropping following bands from data: \" +\n"
     ]
    },
    {
     "name": "stdout",
     "output_type": "stream",
     "text": [
      "1999281575203706348\n"
     ]
    },
    {
     "name": "stderr",
     "output_type": "stream",
     "text": [
      "/tmp/ipykernel_2847/4050759510.py:16: SettingWithCopyWarning: \n",
      "A value is trying to be set on a copy of a slice from a DataFrame.\n",
      "Try using .loc[row_indexer,col_indexer] = value instead\n",
      "\n",
      "See the caveats in the documentation: https://pandas.pydata.org/pandas-docs/stable/user_guide/indexing.html#returning-a-view-versus-a-copy\n",
      "  data['zp'] = 25\n",
      "/tmp/ipykernel_2847/4050759510.py:17: SettingWithCopyWarning: \n",
      "A value is trying to be set on a copy of a slice from a DataFrame.\n",
      "Try using .loc[row_indexer,col_indexer] = value instead\n",
      "\n",
      "See the caveats in the documentation: https://pandas.pydata.org/pandas-docs/stable/user_guide/indexing.html#returning-a-view-versus-a-copy\n",
      "  data['zpsys'] = 'ab'\n"
     ]
    }
   ],
   "source": [
    "fits = []\n",
    "for obj in df.loc[tx]['diaObjectId']:\n",
    "    print(obj)\n",
    "    fits.append(fit_params(obj))"
   ]
  },
  {
   "cell_type": "code",
   "execution_count": 160,
   "id": "55f481f6-7f16-4447-ae10-5532c5dd83a9",
   "metadata": {},
   "outputs": [],
   "source": [
    "fits = pd.DataFrame(fits, columns=['z', 't0', 'x0', 'x1', 'c'])"
   ]
  },
  {
   "cell_type": "code",
   "execution_count": 161,
   "id": "4f3f16ab-6f70-4c68-8d4c-185aa169f6c5",
   "metadata": {
    "collapsed": true,
    "jupyter": {
     "outputs_hidden": true
    },
    "tags": []
   },
   "outputs": [
    {
     "data": {
      "text/html": [
       "<div>\n",
       "<style scoped>\n",
       "    .dataframe tbody tr th:only-of-type {\n",
       "        vertical-align: middle;\n",
       "    }\n",
       "\n",
       "    .dataframe tbody tr th {\n",
       "        vertical-align: top;\n",
       "    }\n",
       "\n",
       "    .dataframe thead th {\n",
       "        text-align: right;\n",
       "    }\n",
       "</style>\n",
       "<table border=\"1\" class=\"dataframe\">\n",
       "  <thead>\n",
       "    <tr style=\"text-align: right;\">\n",
       "      <th></th>\n",
       "      <th>z</th>\n",
       "      <th>t0</th>\n",
       "      <th>x0</th>\n",
       "      <th>x1</th>\n",
       "      <th>c</th>\n",
       "    </tr>\n",
       "  </thead>\n",
       "  <tbody>\n",
       "    <tr>\n",
       "      <th>0</th>\n",
       "      <td>0.528227</td>\n",
       "      <td>60928.305994</td>\n",
       "      <td>0.025745</td>\n",
       "      <td>1.373819</td>\n",
       "      <td>-0.349639</td>\n",
       "    </tr>\n",
       "    <tr>\n",
       "      <th>1</th>\n",
       "      <td>0.300000</td>\n",
       "      <td>60938.724840</td>\n",
       "      <td>0.012887</td>\n",
       "      <td>0.485624</td>\n",
       "      <td>-0.048205</td>\n",
       "    </tr>\n",
       "    <tr>\n",
       "      <th>2</th>\n",
       "      <td>0.353057</td>\n",
       "      <td>60885.454041</td>\n",
       "      <td>0.015176</td>\n",
       "      <td>0.029539</td>\n",
       "      <td>-0.177473</td>\n",
       "    </tr>\n",
       "    <tr>\n",
       "      <th>3</th>\n",
       "      <td>0.300000</td>\n",
       "      <td>61270.136527</td>\n",
       "      <td>0.017375</td>\n",
       "      <td>0.875391</td>\n",
       "      <td>-0.043459</td>\n",
       "    </tr>\n",
       "    <tr>\n",
       "      <th>4</th>\n",
       "      <td>0.300000</td>\n",
       "      <td>61270.136527</td>\n",
       "      <td>0.017375</td>\n",
       "      <td>0.875391</td>\n",
       "      <td>-0.043459</td>\n",
       "    </tr>\n",
       "    <tr>\n",
       "      <th>5</th>\n",
       "      <td>0.361549</td>\n",
       "      <td>60946.648011</td>\n",
       "      <td>0.026919</td>\n",
       "      <td>-1.699819</td>\n",
       "      <td>-0.325521</td>\n",
       "    </tr>\n",
       "    <tr>\n",
       "      <th>6</th>\n",
       "      <td>0.300000</td>\n",
       "      <td>60947.052151</td>\n",
       "      <td>0.058991</td>\n",
       "      <td>-0.722876</td>\n",
       "      <td>-0.460959</td>\n",
       "    </tr>\n",
       "    <tr>\n",
       "      <th>7</th>\n",
       "      <td>0.545410</td>\n",
       "      <td>60966.111033</td>\n",
       "      <td>0.009668</td>\n",
       "      <td>0.921525</td>\n",
       "      <td>-0.312120</td>\n",
       "    </tr>\n",
       "    <tr>\n",
       "      <th>8</th>\n",
       "      <td>0.545410</td>\n",
       "      <td>60966.111033</td>\n",
       "      <td>0.009668</td>\n",
       "      <td>0.921525</td>\n",
       "      <td>-0.312120</td>\n",
       "    </tr>\n",
       "    <tr>\n",
       "      <th>9</th>\n",
       "      <td>0.371405</td>\n",
       "      <td>60249.716115</td>\n",
       "      <td>0.033286</td>\n",
       "      <td>-1.492556</td>\n",
       "      <td>-0.399087</td>\n",
       "    </tr>\n",
       "    <tr>\n",
       "      <th>10</th>\n",
       "      <td>0.588778</td>\n",
       "      <td>60956.286693</td>\n",
       "      <td>0.005275</td>\n",
       "      <td>3.710402</td>\n",
       "      <td>-0.208015</td>\n",
       "    </tr>\n",
       "    <tr>\n",
       "      <th>11</th>\n",
       "      <td>0.300000</td>\n",
       "      <td>60228.842181</td>\n",
       "      <td>0.053665</td>\n",
       "      <td>-0.378509</td>\n",
       "      <td>-0.316721</td>\n",
       "    </tr>\n",
       "    <tr>\n",
       "      <th>12</th>\n",
       "      <td>0.300000</td>\n",
       "      <td>60228.842181</td>\n",
       "      <td>0.053665</td>\n",
       "      <td>-0.378509</td>\n",
       "      <td>-0.316721</td>\n",
       "    </tr>\n",
       "    <tr>\n",
       "      <th>13</th>\n",
       "      <td>0.312368</td>\n",
       "      <td>60976.426793</td>\n",
       "      <td>0.015706</td>\n",
       "      <td>-1.223738</td>\n",
       "      <td>-0.188129</td>\n",
       "    </tr>\n",
       "    <tr>\n",
       "      <th>14</th>\n",
       "      <td>0.545948</td>\n",
       "      <td>60949.610400</td>\n",
       "      <td>0.007055</td>\n",
       "      <td>-1.372154</td>\n",
       "      <td>-0.472789</td>\n",
       "    </tr>\n",
       "    <tr>\n",
       "      <th>15</th>\n",
       "      <td>0.525929</td>\n",
       "      <td>60971.302797</td>\n",
       "      <td>0.008286</td>\n",
       "      <td>0.843491</td>\n",
       "      <td>-0.303701</td>\n",
       "    </tr>\n",
       "    <tr>\n",
       "      <th>16</th>\n",
       "      <td>0.523251</td>\n",
       "      <td>60948.813217</td>\n",
       "      <td>0.008186</td>\n",
       "      <td>-1.879031</td>\n",
       "      <td>-0.372540</td>\n",
       "    </tr>\n",
       "    <tr>\n",
       "      <th>17</th>\n",
       "      <td>0.526131</td>\n",
       "      <td>60921.664719</td>\n",
       "      <td>0.007863</td>\n",
       "      <td>0.877812</td>\n",
       "      <td>-0.313624</td>\n",
       "    </tr>\n",
       "    <tr>\n",
       "      <th>18</th>\n",
       "      <td>0.407607</td>\n",
       "      <td>60930.644898</td>\n",
       "      <td>0.053565</td>\n",
       "      <td>6.133940</td>\n",
       "      <td>-0.314208</td>\n",
       "    </tr>\n",
       "    <tr>\n",
       "      <th>19</th>\n",
       "      <td>0.539313</td>\n",
       "      <td>60967.852492</td>\n",
       "      <td>0.007317</td>\n",
       "      <td>0.314646</td>\n",
       "      <td>-0.175171</td>\n",
       "    </tr>\n",
       "    <tr>\n",
       "      <th>20</th>\n",
       "      <td>0.388572</td>\n",
       "      <td>60963.143449</td>\n",
       "      <td>0.014393</td>\n",
       "      <td>-0.647069</td>\n",
       "      <td>-0.285526</td>\n",
       "    </tr>\n",
       "    <tr>\n",
       "      <th>21</th>\n",
       "      <td>0.388572</td>\n",
       "      <td>60963.143449</td>\n",
       "      <td>0.014393</td>\n",
       "      <td>-0.647069</td>\n",
       "      <td>-0.285526</td>\n",
       "    </tr>\n",
       "    <tr>\n",
       "      <th>22</th>\n",
       "      <td>0.383023</td>\n",
       "      <td>60980.101724</td>\n",
       "      <td>0.029555</td>\n",
       "      <td>1.274329</td>\n",
       "      <td>-0.287196</td>\n",
       "    </tr>\n",
       "    <tr>\n",
       "      <th>23</th>\n",
       "      <td>0.536052</td>\n",
       "      <td>61282.146161</td>\n",
       "      <td>0.011115</td>\n",
       "      <td>-0.264488</td>\n",
       "      <td>-0.331255</td>\n",
       "    </tr>\n",
       "    <tr>\n",
       "      <th>24</th>\n",
       "      <td>0.578602</td>\n",
       "      <td>60952.872942</td>\n",
       "      <td>0.009352</td>\n",
       "      <td>1.502115</td>\n",
       "      <td>-0.285400</td>\n",
       "    </tr>\n",
       "    <tr>\n",
       "      <th>25</th>\n",
       "      <td>0.300000</td>\n",
       "      <td>60956.894716</td>\n",
       "      <td>0.014377</td>\n",
       "      <td>0.812867</td>\n",
       "      <td>-0.086610</td>\n",
       "    </tr>\n",
       "    <tr>\n",
       "      <th>26</th>\n",
       "      <td>0.300000</td>\n",
       "      <td>60956.894716</td>\n",
       "      <td>0.014377</td>\n",
       "      <td>0.812867</td>\n",
       "      <td>-0.086610</td>\n",
       "    </tr>\n",
       "    <tr>\n",
       "      <th>27</th>\n",
       "      <td>0.310782</td>\n",
       "      <td>60225.296383</td>\n",
       "      <td>0.030617</td>\n",
       "      <td>-0.957618</td>\n",
       "      <td>-0.302147</td>\n",
       "    </tr>\n",
       "    <tr>\n",
       "      <th>28</th>\n",
       "      <td>0.300000</td>\n",
       "      <td>61341.593158</td>\n",
       "      <td>0.013091</td>\n",
       "      <td>0.564958</td>\n",
       "      <td>-0.009826</td>\n",
       "    </tr>\n",
       "    <tr>\n",
       "      <th>29</th>\n",
       "      <td>0.536585</td>\n",
       "      <td>60994.987426</td>\n",
       "      <td>0.014084</td>\n",
       "      <td>0.235001</td>\n",
       "      <td>-0.337947</td>\n",
       "    </tr>\n",
       "    <tr>\n",
       "      <th>30</th>\n",
       "      <td>0.433622</td>\n",
       "      <td>60916.498968</td>\n",
       "      <td>0.020096</td>\n",
       "      <td>14.892500</td>\n",
       "      <td>-0.304187</td>\n",
       "    </tr>\n",
       "    <tr>\n",
       "      <th>31</th>\n",
       "      <td>0.499839</td>\n",
       "      <td>61273.075550</td>\n",
       "      <td>0.011611</td>\n",
       "      <td>0.820007</td>\n",
       "      <td>-0.326432</td>\n",
       "    </tr>\n",
       "    <tr>\n",
       "      <th>32</th>\n",
       "      <td>0.396655</td>\n",
       "      <td>60955.972689</td>\n",
       "      <td>0.006874</td>\n",
       "      <td>0.963050</td>\n",
       "      <td>-0.011800</td>\n",
       "    </tr>\n",
       "    <tr>\n",
       "      <th>33</th>\n",
       "      <td>0.300000</td>\n",
       "      <td>60953.106863</td>\n",
       "      <td>0.018383</td>\n",
       "      <td>0.170616</td>\n",
       "      <td>-0.107975</td>\n",
       "    </tr>\n",
       "    <tr>\n",
       "      <th>34</th>\n",
       "      <td>0.495998</td>\n",
       "      <td>60947.863929</td>\n",
       "      <td>0.009369</td>\n",
       "      <td>1.604471</td>\n",
       "      <td>-0.285155</td>\n",
       "    </tr>\n",
       "    <tr>\n",
       "      <th>35</th>\n",
       "      <td>0.356938</td>\n",
       "      <td>60971.361432</td>\n",
       "      <td>0.012918</td>\n",
       "      <td>1.115881</td>\n",
       "      <td>-0.112222</td>\n",
       "    </tr>\n",
       "    <tr>\n",
       "      <th>36</th>\n",
       "      <td>0.371227</td>\n",
       "      <td>60541.578170</td>\n",
       "      <td>0.016329</td>\n",
       "      <td>0.671496</td>\n",
       "      <td>-0.225090</td>\n",
       "    </tr>\n",
       "    <tr>\n",
       "      <th>37</th>\n",
       "      <td>0.485372</td>\n",
       "      <td>60578.041399</td>\n",
       "      <td>0.014538</td>\n",
       "      <td>1.573961</td>\n",
       "      <td>-0.308596</td>\n",
       "    </tr>\n",
       "    <tr>\n",
       "      <th>38</th>\n",
       "      <td>0.545048</td>\n",
       "      <td>61001.724977</td>\n",
       "      <td>0.008143</td>\n",
       "      <td>0.837340</td>\n",
       "      <td>-0.300480</td>\n",
       "    </tr>\n",
       "    <tr>\n",
       "      <th>39</th>\n",
       "      <td>0.379167</td>\n",
       "      <td>60923.235009</td>\n",
       "      <td>0.017372</td>\n",
       "      <td>1.341164</td>\n",
       "      <td>-0.266057</td>\n",
       "    </tr>\n",
       "    <tr>\n",
       "      <th>40</th>\n",
       "      <td>0.361628</td>\n",
       "      <td>60163.708329</td>\n",
       "      <td>0.015805</td>\n",
       "      <td>0.169822</td>\n",
       "      <td>-0.092320</td>\n",
       "    </tr>\n",
       "    <tr>\n",
       "      <th>41</th>\n",
       "      <td>0.547554</td>\n",
       "      <td>60978.912758</td>\n",
       "      <td>0.012497</td>\n",
       "      <td>0.151084</td>\n",
       "      <td>-0.342987</td>\n",
       "    </tr>\n",
       "    <tr>\n",
       "      <th>42</th>\n",
       "      <td>0.300000</td>\n",
       "      <td>60948.620328</td>\n",
       "      <td>0.022207</td>\n",
       "      <td>1.174338</td>\n",
       "      <td>-0.100381</td>\n",
       "    </tr>\n",
       "  </tbody>\n",
       "</table>\n",
       "</div>"
      ],
      "text/plain": [
       "           z            t0        x0         x1         c\n",
       "0   0.528227  60928.305994  0.025745   1.373819 -0.349639\n",
       "1   0.300000  60938.724840  0.012887   0.485624 -0.048205\n",
       "2   0.353057  60885.454041  0.015176   0.029539 -0.177473\n",
       "3   0.300000  61270.136527  0.017375   0.875391 -0.043459\n",
       "4   0.300000  61270.136527  0.017375   0.875391 -0.043459\n",
       "5   0.361549  60946.648011  0.026919  -1.699819 -0.325521\n",
       "6   0.300000  60947.052151  0.058991  -0.722876 -0.460959\n",
       "7   0.545410  60966.111033  0.009668   0.921525 -0.312120\n",
       "8   0.545410  60966.111033  0.009668   0.921525 -0.312120\n",
       "9   0.371405  60249.716115  0.033286  -1.492556 -0.399087\n",
       "10  0.588778  60956.286693  0.005275   3.710402 -0.208015\n",
       "11  0.300000  60228.842181  0.053665  -0.378509 -0.316721\n",
       "12  0.300000  60228.842181  0.053665  -0.378509 -0.316721\n",
       "13  0.312368  60976.426793  0.015706  -1.223738 -0.188129\n",
       "14  0.545948  60949.610400  0.007055  -1.372154 -0.472789\n",
       "15  0.525929  60971.302797  0.008286   0.843491 -0.303701\n",
       "16  0.523251  60948.813217  0.008186  -1.879031 -0.372540\n",
       "17  0.526131  60921.664719  0.007863   0.877812 -0.313624\n",
       "18  0.407607  60930.644898  0.053565   6.133940 -0.314208\n",
       "19  0.539313  60967.852492  0.007317   0.314646 -0.175171\n",
       "20  0.388572  60963.143449  0.014393  -0.647069 -0.285526\n",
       "21  0.388572  60963.143449  0.014393  -0.647069 -0.285526\n",
       "22  0.383023  60980.101724  0.029555   1.274329 -0.287196\n",
       "23  0.536052  61282.146161  0.011115  -0.264488 -0.331255\n",
       "24  0.578602  60952.872942  0.009352   1.502115 -0.285400\n",
       "25  0.300000  60956.894716  0.014377   0.812867 -0.086610\n",
       "26  0.300000  60956.894716  0.014377   0.812867 -0.086610\n",
       "27  0.310782  60225.296383  0.030617  -0.957618 -0.302147\n",
       "28  0.300000  61341.593158  0.013091   0.564958 -0.009826\n",
       "29  0.536585  60994.987426  0.014084   0.235001 -0.337947\n",
       "30  0.433622  60916.498968  0.020096  14.892500 -0.304187\n",
       "31  0.499839  61273.075550  0.011611   0.820007 -0.326432\n",
       "32  0.396655  60955.972689  0.006874   0.963050 -0.011800\n",
       "33  0.300000  60953.106863  0.018383   0.170616 -0.107975\n",
       "34  0.495998  60947.863929  0.009369   1.604471 -0.285155\n",
       "35  0.356938  60971.361432  0.012918   1.115881 -0.112222\n",
       "36  0.371227  60541.578170  0.016329   0.671496 -0.225090\n",
       "37  0.485372  60578.041399  0.014538   1.573961 -0.308596\n",
       "38  0.545048  61001.724977  0.008143   0.837340 -0.300480\n",
       "39  0.379167  60923.235009  0.017372   1.341164 -0.266057\n",
       "40  0.361628  60163.708329  0.015805   0.169822 -0.092320\n",
       "41  0.547554  60978.912758  0.012497   0.151084 -0.342987\n",
       "42  0.300000  60948.620328  0.022207   1.174338 -0.100381"
      ]
     },
     "execution_count": 161,
     "metadata": {},
     "output_type": "execute_result"
    }
   ],
   "source": [
    "fits"
   ]
  },
  {
   "cell_type": "markdown",
   "id": "8f750e4c-e349-43df-a91d-3e2c3c78a49c",
   "metadata": {},
   "source": [
    "## Exercise 3: My First Hubble Diagram\n",
    "\n",
    "Now we will use our SALT2 fit values to create a rudimentary Hubble diagram.  We will plot the distance modulus $\\mu$ derived from the SALT fits as a function of redshift."
   ]
  },
  {
   "cell_type": "markdown",
   "id": "3180aa9e-79a9-4c97-a967-f8df12491f8f",
   "metadata": {
    "execution": {
     "iopub.execute_input": "2023-02-14T21:02:00.459541Z",
     "iopub.status.busy": "2023-02-14T21:02:00.458830Z",
     "iopub.status.idle": "2023-02-14T21:02:00.463638Z",
     "shell.execute_reply": "2023-02-14T21:02:00.462867Z",
     "shell.execute_reply.started": "2023-02-14T21:02:00.459514Z"
    },
    "tags": []
   },
   "source": [
    "<div class=\"alert alert-block alert-warning\">\n",
    "    <b>Warning:</b> This analaysis approach is intended to be illustrative, and doesn't reflect the current state of the art for Ia cosmology.  The interested reader is encouraged to consult the literature (e.g., <a href=\"https://ui.adsabs.harvard.edu/abs/2022ApJ...938..111B/abstract\">Brout+22</a>, <a href=\"https://ui.adsabs.harvard.edu/abs/2022arXiv221107657D/abstract\">Dhawan+22</a>, <a href=\"https://ui.adsabs.harvard.edu/abs/2022ApJ...934...96S/abstract\">Sanchez+22</a>, and references therein) to learn more.\n",
    "\n",
    "</div>"
   ]
  },
  {
   "cell_type": "markdown",
   "id": "f4746fbd-646b-4af0-a5db-2d3ae7b9ef49",
   "metadata": {},
   "source": [
    "The [Tripp Law](https://ui.adsabs.harvard.edu/abs/1998A%26A...331..815T/abstract) can be [written](https://ui.adsabs.harvard.edu/abs/2011ApJ...740...72M/abstract) in terms of the SALT2 model parameters:\n",
    "\n",
    "$\\mu = -2.5 \\log_{10}{x_0} + \\alpha x_1 - \\beta c - M_0$\n",
    "\n",
    "The parameters $\\alpha$, $\\beta$, and $M_0$ are typically fit along with the cosmological model.  For simplicity, we will adopt the DC2 values $\\alpha = 0.137$, $\\beta=3.21$ (see Table 1 of [Sanchez+22](https://ui.adsabs.harvard.edu/abs/2022ApJ...934...96S/abstract))."
   ]
  },
  {
   "cell_type": "markdown",
   "id": "d57ccb45-a1c7-4fb1-9c2d-7a739baed145",
   "metadata": {},
   "source": [
    "### Exercise 3a:\n",
    "\n",
    "Using the above formula, plot the distance modulus versus redshift for our Ia supernovae.  Overplot the theoretical luminosity distance vs. redshift curve for a fiducial cosmology.  Use \"chi by eye\" to adjust $M_0$ until the points overlap reasonably with the model."
   ]
  },
  {
   "cell_type": "code",
   "execution_count": 186,
   "id": "e5fcb4c2-9c50-4e25-b60c-ca7dacc46fd6",
   "metadata": {},
   "outputs": [
    {
     "data": {
      "text/plain": [
       "<matplotlib.legend.Legend at 0x7f60bc74bb20>"
      ]
     },
     "execution_count": 186,
     "metadata": {},
     "output_type": "execute_result"
    },
    {
     "data": {
      "image/png": "[encoded data removed]",
      "text/plain": [
       "<Figure size 640x480 with 1 Axes>"
      ]
     },
     "metadata": {},
     "output_type": "display_data"
    }
   ],
   "source": [
    "alpha = 0.137\n",
    "beta = 3.21\n",
    "M0 = -36.3\n",
    "\n",
    "fits['dm'] = -2.5 * np.log10(fits['x0']) + alpha * fits['x1'] - beta * fits['c'] - M0\n",
    "\n",
    "zs = np.linspace(0.28, 0.62, 45)\n",
    "dms = np.array([cosmo.distmod(z).value for z in zs])\n",
    "\n",
    "fig, ax = plt.subplots()\n",
    "fits.plot.scatter(x='z', y='dm', ax=ax, label='data')\n",
    "ax.plot(zs, dms, color='k', label='fiducial')\n",
    "plt.legend()"
   ]
  },
  {
   "cell_type": "markdown",
   "id": "1c7cd914-03a4-4124-8882-12e41c23529c",
   "metadata": {},
   "source": [
    "## Exercise 3b:\n",
    "\n",
    "Compute the standard deviation of the residuals between the fit $\\mu$ values and the luminosity distance expected at that redshift.  How does that compare to the simulated \"intrinsic scatter\" of 0.15 mag in the DC2 simulations (Table 1 of [Sanchez+22](https://ui.adsabs.harvard.edu/abs/2022ApJ...934...96S/abstract))? \n",
    "\n",
    "What steps could you imagine taking to reduce the scatter in your Hubble diagram?  In what ways will the DC2 analysis tend to _underestimate_ the scatter that will be seen in real LSST analysis?"
   ]
  },
  {
   "cell_type": "code",
   "execution_count": 187,
   "id": "61fa8c7c-15bf-4b37-b87a-0567708b5ac6",
   "metadata": {},
   "outputs": [],
   "source": [
    "fits['fiducial'] = np.array([cosmo.distmod(z).value for z in fits['z']])"
   ]
  },
  {
   "cell_type": "code",
   "execution_count": 188,
   "id": "5e3b4cc0-bfd4-4c88-b8a4-2c90d35da8a1",
   "metadata": {},
   "outputs": [
    {
     "data": {
      "image/png": "[encoded data removed]",
      "text/plain": [
       "<Figure size 640x480 with 1 Axes>"
      ]
     },
     "metadata": {},
     "output_type": "display_data"
    }
   ],
   "source": [
    "plt.hist(fits['fiducial'] - fits['dm'], bins='fd')\n",
    "plt.show()"
   ]
  },
  {
   "cell_type": "code",
   "execution_count": 190,
   "id": "9d334f67-879d-4885-9dae-2a285b08a87b",
   "metadata": {},
   "outputs": [
    {
     "data": {
      "text/plain": [
       "0.3897624955343068"
      ]
     },
     "execution_count": 190,
     "metadata": {},
     "output_type": "execute_result"
    }
   ],
   "source": [
    "(fits['fiducial'] - fits['dm']).std()"
   ]
  },
  {
   "cell_type": "markdown",
   "id": "41257faa-9a63-4c7a-ac7e-2717b9ca66b0",
   "metadata": {},
   "source": [
    "Since distance modulus is in the same \"units\" as magnitudes, the standard deviation reveals a scatter of ~0.4, which is greater than the simulated intrinsic scatter of 0.15 from DC2 sims. One major source of additional scatter is reddening from interstellar and intergalactic medium. "
   ]
  },
  {
   "cell_type": "markdown",
   "id": "946a7b5f-754f-474a-9d2e-14a15d1a15cb",
   "metadata": {},
   "source": [
    "## Exercise 4 (Optional): Compare to the Truth Table\n",
    "\n",
    "Since DC2 consists of simulated data, we can see how well we recovered the input parameters.\n",
    "See [this notebook](https://github.com/rubin-dp0/delegate-contributions-dp02/blob/main/desc_truth/read_truth_parquet_files.ipynb) for more details.\n",
    "\n",
    "You might:\n",
    "\n",
    " * Spatially crossmatch your Ia sample to the truth table and compare your fit parameters to the true values.\n",
    "\n",
    " * Generate a Hubble Diagram with the truth values\n",
    "\n",
    " * Use the truth redshift only and re-fit the SALT2 model with the redshift constraint, mimicking the case of having a spectroscopic redshift\n",
    "\n"
   ]
  },
  {
   "cell_type": "code",
   "execution_count": null,
   "id": "5d9e2367-20ed-4abd-8d38-26dc9e9f7eb5",
   "metadata": {},
   "outputs": [],
   "source": [
    "pfnm_sn_sum = '/project/jchiang/Run2.2i/truth/SNe/truth_sn_summary_v1-0-0.parquet'"
   ]
  },
  {
   "cell_type": "code",
   "execution_count": null,
   "id": "ad3d6d9f-cb1e-4442-abea-62a66b297f40",
   "metadata": {
    "tags": []
   },
   "outputs": [],
   "source": [
    "%%time\n",
    "result_sn_sum = pd.read_parquet(pfnm_sn_sum)\n",
    "result_sn_sum.head()"
   ]
  },
  {
   "cell_type": "code",
   "execution_count": null,
   "id": "fd516d03-d413-40cd-8bf5-c8bbf52ba8e7",
   "metadata": {},
   "outputs": [],
   "source": []
  }
 ],
 "metadata": {
  "kernelspec": {
   "display_name": "LSST",
   "language": "python",
   "name": "lsst"
  },
  "language_info": {
   "codemirror_mode": {
    "name": "ipython",
    "version": 3
   },
   "file_extension": ".py",
   "mimetype": "text/x-python",
   "name": "python",
   "nbconvert_exporter": "python",
   "pygments_lexer": "ipython3",
   "version": "3.10.5"
  }
 },
 "nbformat": 4,
 "nbformat_minor": 5
}
