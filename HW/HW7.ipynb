{
 "cells": [
  {
   "cell_type": "markdown",
   "id": "2e434af5-e7ea-4481-8db8-93aeb6821c09",
   "metadata": {
    "execution": {
     "iopub.execute_input": "2023-01-30T01:10:23.448807Z",
     "iopub.status.busy": "2023-01-30T01:10:23.447973Z",
     "iopub.status.idle": "2023-01-30T01:10:23.452882Z",
     "shell.execute_reply": "2023-01-30T01:10:23.452092Z",
     "shell.execute_reply.started": "2023-01-30T01:10:23.448782Z"
    }
   },
   "source": [
    "## ASTR 597A Homework 7\n",
    "Eric Bellm\n",
    "\n",
    "Due Feb 21, 2023"
   ]
  },
  {
   "cell_type": "markdown",
   "id": "47ca2b20-7e93-49dd-b179-5c807da364af",
   "metadata": {
    "execution": {
     "iopub.execute_input": "2023-01-30T01:10:37.231882Z",
     "iopub.status.busy": "2023-01-30T01:10:37.231002Z",
     "iopub.status.idle": "2023-01-30T01:10:37.235381Z",
     "shell.execute_reply": "2023-01-30T01:10:37.234794Z",
     "shell.execute_reply.started": "2023-01-30T01:10:37.231856Z"
    }
   },
   "source": [
    "Your name:\n",
    "    \n",
    "Your collaborators:"
   ]
  },
  {
   "cell_type": "markdown",
   "id": "d31e62e1-62bc-48ac-8cf9-1629ede6d7ea",
   "metadata": {},
   "source": [
    "For this homework we'll need another external package, [sncosmo](https://sncosmo.readthedocs.io/).  Install it and then restart the kernel:"
   ]
  },
  {
   "cell_type": "code",
   "execution_count": null,
   "id": "4298d2bc-3067-4e35-baef-ab4bd812dcc7",
   "metadata": {
    "tags": []
   },
   "outputs": [],
   "source": [
    "!pip install --user sncosmo"
   ]
  },
  {
   "cell_type": "code",
   "execution_count": null,
   "id": "21854096-c051-43b4-9e2e-7186e14857ad",
   "metadata": {},
   "outputs": [],
   "source": [
    "import sncosmo"
   ]
  },
  {
   "cell_type": "markdown",
   "id": "2cbf14dd-04a4-46b1-b30a-5d00c95562ae",
   "metadata": {
    "execution": {
     "iopub.execute_input": "2023-02-12T01:14:57.524985Z",
     "iopub.status.busy": "2023-02-12T01:14:57.524316Z",
     "iopub.status.idle": "2023-02-12T01:14:57.535548Z",
     "shell.execute_reply": "2023-02-12T01:14:57.534982Z",
     "shell.execute_reply.started": "2023-02-12T01:14:57.524957Z"
    },
    "tags": []
   },
   "source": [
    "## Exercise 1: Searching for Supernovae\n",
    "\n",
    "Without using the truth table information, identify a sample of 40 or more candidate Ia supernovae.\n",
    "\n",
    "The 07a tutorial notebook may be helpful."
   ]
  },
  {
   "cell_type": "code",
   "execution_count": null,
   "id": "2fbaa10f-37f5-4f68-a194-655aae4b9864",
   "metadata": {},
   "outputs": [],
   "source": []
  },
  {
   "cell_type": "markdown",
   "id": "e6a3e540-ee55-47ea-848f-b76fdf2b71e7",
   "metadata": {},
   "source": [
    "## Exercise 2: Ia Lightcurve fitting.\n",
    "\n",
    "Using `sncosmo`, fit a [SALT2](https://ui.adsabs.harvard.edu/abs/2007A%26A...466...11G/abstract) model to each of the candidate Ia SNe you identified in Exercise 1.  \n",
    "\n",
    "The fit to each lightcurve will yield parameters `z` (redshift), `t0` (time of peak brightness), `x0` (amplitude), `x1` (stretch), and `c` (color).  Save them and their errors. \n",
    "\n",
    "Note that the fit may fail for some of your lightcurves; that's okay."
   ]
  },
  {
   "cell_type": "code",
   "execution_count": null,
   "id": "527dc445-d4b0-4a56-b232-526d621905e5",
   "metadata": {},
   "outputs": [],
   "source": []
  },
  {
   "cell_type": "markdown",
   "id": "8f750e4c-e349-43df-a91d-3e2c3c78a49c",
   "metadata": {},
   "source": [
    "## Exercise 3: My First Hubble Diagram\n",
    "\n",
    "Now we will use our SALT2 fit values to create a rudimentary Hubble diagram.  We will plot the distance modulus $\\mu$ derived from the SALT fits as a function of redshift."
   ]
  },
  {
   "cell_type": "markdown",
   "id": "3180aa9e-79a9-4c97-a967-f8df12491f8f",
   "metadata": {
    "execution": {
     "iopub.execute_input": "2023-02-14T21:02:00.459541Z",
     "iopub.status.busy": "2023-02-14T21:02:00.458830Z",
     "iopub.status.idle": "2023-02-14T21:02:00.463638Z",
     "shell.execute_reply": "2023-02-14T21:02:00.462867Z",
     "shell.execute_reply.started": "2023-02-14T21:02:00.459514Z"
    },
    "tags": []
   },
   "source": [
    "<div class=\"alert alert-block alert-warning\">\n",
    "    <b>Warning:</b> This analaysis approach is intended to be illustrative, and doesn't reflect the current state of the art for Ia cosmology.  The interested reader is encouraged to consult the literature (e.g., <a href=\"https://ui.adsabs.harvard.edu/abs/2022ApJ...938..111B/abstract\">Brout+22</a>, <a href=\"https://ui.adsabs.harvard.edu/abs/2022arXiv221107657D/abstract\">Dhawan+22</a>, <a href=\"https://ui.adsabs.harvard.edu/abs/2022ApJ...934...96S/abstract\">Sanchez+22</a>, and references therein) to learn more.\n",
    "\n",
    "</div>"
   ]
  },
  {
   "cell_type": "markdown",
   "id": "f4746fbd-646b-4af0-a5db-2d3ae7b9ef49",
   "metadata": {},
   "source": [
    "The [Tripp Law](https://ui.adsabs.harvard.edu/abs/1998A%26A...331..815T/abstract) can be [written](https://ui.adsabs.harvard.edu/abs/2011ApJ...740...72M/abstract) in terms of the SALT2 model parameters:\n",
    "\n",
    "$\\mu = -2.5 \\log_{10}{x_0} + \\alpha x_1 - \\beta c - M_0$\n",
    "\n",
    "The parameters $\\alpha$, $\\beta$, and $M_0$ are typically fit along with the cosmological model.  For simplicity, we will adopt the DC2 values $\\alpha = 0.137$, $\\beta=3.21$ (see Table 1 of [Sanchez+22](https://ui.adsabs.harvard.edu/abs/2022ApJ...934...96S/abstract))."
   ]
  },
  {
   "cell_type": "markdown",
   "id": "d57ccb45-a1c7-4fb1-9c2d-7a739baed145",
   "metadata": {},
   "source": [
    "### Exercise 3a:\n",
    "\n",
    "Using the above formula, plot the distance modulus versus redshift for our Ia supernovae.  Overplot the theoretical luminosity distance vs. redshift curve for a fiducial cosmology.  Use \"chi by eye\" to adjust $M_0$ until the points overlap reasonably with the model."
   ]
  },
  {
   "cell_type": "code",
   "execution_count": null,
   "id": "04c7d553-d0b8-46d9-8d0e-58aa24708b81",
   "metadata": {},
   "outputs": [],
   "source": []
  },
  {
   "cell_type": "markdown",
   "id": "1c7cd914-03a4-4124-8882-12e41c23529c",
   "metadata": {},
   "source": [
    "## Exercise 3b:\n",
    "\n",
    "Compute the standard deviation of the residuals between the fit $\\mu$ values and the luminosity distance expected at that redshift.  How does that compare to the simulated \"intrinsic scatter\" of 0.15 mag in the DC2 simulations (Table 1 of [Sanchez+22](https://ui.adsabs.harvard.edu/abs/2022ApJ...934...96S/abstract))? \n",
    "\n",
    "What steps could you imagine taking to reduce the scatter in your Hubble diagram?  In what ways will the DC2 analysis tend to _underestimate_ the scatter that will be seen in real LSST analysis?"
   ]
  },
  {
   "cell_type": "code",
   "execution_count": null,
   "id": "61fa8c7c-15bf-4b37-b87a-0567708b5ac6",
   "metadata": {},
   "outputs": [],
   "source": []
  },
  {
   "cell_type": "markdown",
   "id": "946a7b5f-754f-474a-9d2e-14a15d1a15cb",
   "metadata": {},
   "source": [
    "## Exercise 4 (Optional): Compare to the Truth Table\n",
    "\n",
    "Since DC2 consists of simulated data, we can see how well we recovered the input parameters.\n",
    "See [this notebook](https://github.com/rubin-dp0/delegate-contributions-dp02/blob/main/desc_truth/read_truth_parquet_files.ipynb) for more details.\n",
    "\n",
    "You might:\n",
    "\n",
    " * Spatially crossmatch your Ia sample to the truth table and compare your fit parameters to the true values.\n",
    "\n",
    " * Generate a Hubble Diagram with the truth values\n",
    "\n",
    " * Use the truth redshift only and re-fit the SALT2 model with the redshift constraint, mimicking the case of having a spectroscopic redshift\n",
    "\n"
   ]
  },
  {
   "cell_type": "code",
   "execution_count": null,
   "id": "5d9e2367-20ed-4abd-8d38-26dc9e9f7eb5",
   "metadata": {},
   "outputs": [],
   "source": [
    "pfnm_sn_sum = '/project/jchiang/Run2.2i/truth/SNe/truth_sn_summary_v1-0-0.parquet'"
   ]
  },
  {
   "cell_type": "code",
   "execution_count": null,
   "id": "ad3d6d9f-cb1e-4442-abea-62a66b297f40",
   "metadata": {
    "tags": []
   },
   "outputs": [],
   "source": [
    "%%time\n",
    "result_sn_sum = pd.read_parquet(pfnm_sn_sum)\n",
    "result_sn_sum.head()"
   ]
  },
  {
   "cell_type": "code",
   "execution_count": null,
   "id": "fd516d03-d413-40cd-8bf5-c8bbf52ba8e7",
   "metadata": {},
   "outputs": [],
   "source": []
  }
 ],
 "metadata": {
  "kernelspec": {
   "display_name": "Python 3 (ipykernel)",
   "language": "python",
   "name": "python3"
  },
  "language_info": {
   "codemirror_mode": {
    "name": "ipython",
    "version": 3
   },
   "file_extension": ".py",
   "mimetype": "text/x-python",
   "name": "python",
   "nbconvert_exporter": "python",
   "pygments_lexer": "ipython3",
   "version": "3.9.7"
  }
 },
 "nbformat": 4,
 "nbformat_minor": 5
}
