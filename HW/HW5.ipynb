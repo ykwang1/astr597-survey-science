{
 "cells": [
  {
   "cell_type": "markdown",
   "id": "2e434af5-e7ea-4481-8db8-93aeb6821c09",
   "metadata": {
    "execution": {
     "iopub.execute_input": "2023-01-30T01:10:23.448807Z",
     "iopub.status.busy": "2023-01-30T01:10:23.447973Z",
     "iopub.status.idle": "2023-01-30T01:10:23.452882Z",
     "shell.execute_reply": "2023-01-30T01:10:23.452092Z",
     "shell.execute_reply.started": "2023-01-30T01:10:23.448782Z"
    }
   },
   "source": [
    "## ASTR 597A Homework 5\n",
    "Eric Bellm\n",
    "\n",
    "Due Feb 7, 2023"
   ]
  },
  {
   "cell_type": "markdown",
   "id": "47ca2b20-7e93-49dd-b179-5c807da364af",
   "metadata": {
    "execution": {
     "iopub.execute_input": "2023-01-30T01:10:37.231882Z",
     "iopub.status.busy": "2023-01-30T01:10:37.231002Z",
     "iopub.status.idle": "2023-01-30T01:10:37.235381Z",
     "shell.execute_reply": "2023-01-30T01:10:37.234794Z",
     "shell.execute_reply.started": "2023-01-30T01:10:37.231856Z"
    }
   },
   "source": [
    "Your name:\n",
    "    \n",
    "Your collaborators:"
   ]
  },
  {
   "cell_type": "markdown",
   "id": "92e4d753-d302-4171-9069-37a8774c40de",
   "metadata": {},
   "source": [
    "In this homework we will attempt to \"replicate\" a classic SDSS paper ([Baldry et al. 2004](https://ui.adsabs.harvard.edu/abs/2004ApJ...600..681B/abstract)) with simulated Rubin data. Plotting the absolute r-band magnitudes of low-redshift galaxies vs. their (u-r) colors shows clearly the red sequence, blue clump, and green valley populations.  We will investigate if the DP0.2 galaxies show the same distribution, explore the implications since we won't have (many) spectroscopic redshifts, and look at possible evolution with redshift..."
   ]
  },
  {
   "cell_type": "markdown",
   "id": "b86dbb2e-91b5-452a-85c2-edcee9719c36",
   "metadata": {},
   "source": [
    "Portions of this work were developed based on [this notebook](https://github.com/rubin-dp0/delegate-contributions-dp02/tree/main/photoz/CMNN_Estimator) by Melissa Graham."
   ]
  },
  {
   "cell_type": "markdown",
   "id": "b29eaddc-538c-4054-9600-1814117aec69",
   "metadata": {},
   "source": [
    "We will need to deal with \"k-corrections\" in order to convert our observer frame photometry to the rest frame.  See [Hogg et al. 2002](https://ui.adsabs.harvard.edu/abs/2002astro.ph.10394H/abstract) for a pedagogical overview.\n",
    "\n",
    "The python package `kcorrect` by Mike Blanton provides our easist way to deal with this.  The package documentation is [here](https://kcorrect.readthedocs.io/), the source code [here](https://github.com/blanton144/kcorrect), and the paper describing the algorithm is [here](https://ui.adsabs.harvard.edu/abs/2007AJ....133..734B/abstract)."
   ]
  },
  {
   "cell_type": "code",
   "execution_count": 1,
   "id": "38eff967-e5b4-4a53-bfa1-d422111f3cdd",
   "metadata": {
    "tags": []
   },
   "outputs": [
    {
     "name": "stdout",
     "output_type": "stream",
     "text": [
      "Collecting git+https://github.com/blanton144/kcorrect.git\n",
      "  Cloning https://github.com/blanton144/kcorrect.git to /private/var/folders/n5/rfjgz5594nn_l3rjr8jsplzr0000gn/T/pip-req-build-wbnwggfh\n",
      "  Running command git clone -q https://github.com/blanton144/kcorrect.git /private/var/folders/n5/rfjgz5594nn_l3rjr8jsplzr0000gn/T/pip-req-build-wbnwggfh\n",
      "  Resolved https://github.com/blanton144/kcorrect.git to commit 5e62bfc85eacb0aa5ab8a4b387d1283f528a337a\n",
      "Collecting matplotlib>=3.5.2\n",
      "  Downloading matplotlib-3.6.3-cp39-cp39-macosx_10_12_x86_64.whl (7.3 MB)\n",
      "\u001b[K     |████████████████████████████████| 7.3 MB 1.3 MB/s eta 0:00:01\n",
      "\u001b[?25hRequirement already satisfied: numpy>=1.18.1 in /Users/ykwang/opt/anaconda3/lib/python3.9/site-packages (from kcorrect==5.0.0b0) (1.22.4)\n",
      "Collecting scipy>=1.8.1\n",
      "  Downloading scipy-1.10.0-cp39-cp39-macosx_10_15_x86_64.whl (35.2 MB)\n",
      "\u001b[K     |████████████████████████████████| 35.2 MB 1.1 MB/s eta 0:00:011\n",
      "\u001b[?25hRequirement already satisfied: astropy>=3.0.0 in /Users/ykwang/opt/anaconda3/lib/python3.9/site-packages (from kcorrect==5.0.0b0) (5.1)\n",
      "Collecting pydl>=0.7.0\n",
      "  Downloading pydl-0.7.0.tar.gz (798 kB)\n",
      "\u001b[K     |████████████████████████████████| 798 kB 12.5 MB/s eta 0:00:01\n",
      "\u001b[?25hCollecting fitsio>=1.1.1\n",
      "  Downloading fitsio-1.1.8.tar.gz (5.0 MB)\n",
      "\u001b[K     |████████████████████████████████| 5.0 MB 18.9 MB/s eta 0:00:01\n",
      "\u001b[?25hRequirement already satisfied: packaging>=19.0 in /Users/ykwang/opt/anaconda3/lib/python3.9/site-packages (from astropy>=3.0.0->kcorrect==5.0.0b0) (21.0)\n",
      "Requirement already satisfied: pyerfa>=2.0 in /Users/ykwang/opt/anaconda3/lib/python3.9/site-packages (from astropy>=3.0.0->kcorrect==5.0.0b0) (2.0.0)\n",
      "Requirement already satisfied: PyYAML>=3.13 in /Users/ykwang/opt/anaconda3/lib/python3.9/site-packages (from astropy>=3.0.0->kcorrect==5.0.0b0) (6.0)\n",
      "Collecting contourpy>=1.0.1\n",
      "  Downloading contourpy-1.0.7-cp39-cp39-macosx_10_9_x86_64.whl (244 kB)\n",
      "\u001b[K     |████████████████████████████████| 244 kB 17.0 MB/s eta 0:00:01\n",
      "\u001b[?25hRequirement already satisfied: pyparsing>=2.2.1 in /Users/ykwang/opt/anaconda3/lib/python3.9/site-packages (from matplotlib>=3.5.2->kcorrect==5.0.0b0) (3.0.4)\n",
      "Requirement already satisfied: fonttools>=4.22.0 in /Users/ykwang/opt/anaconda3/lib/python3.9/site-packages (from matplotlib>=3.5.2->kcorrect==5.0.0b0) (4.25.0)\n",
      "Requirement already satisfied: python-dateutil>=2.7 in /Users/ykwang/opt/anaconda3/lib/python3.9/site-packages (from matplotlib>=3.5.2->kcorrect==5.0.0b0) (2.8.2)\n",
      "Requirement already satisfied: pillow>=6.2.0 in /Users/ykwang/opt/anaconda3/lib/python3.9/site-packages (from matplotlib>=3.5.2->kcorrect==5.0.0b0) (8.4.0)\n",
      "Requirement already satisfied: cycler>=0.10 in /Users/ykwang/opt/anaconda3/lib/python3.9/site-packages (from matplotlib>=3.5.2->kcorrect==5.0.0b0) (0.10.0)\n",
      "Requirement already satisfied: kiwisolver>=1.0.1 in /Users/ykwang/opt/anaconda3/lib/python3.9/site-packages (from matplotlib>=3.5.2->kcorrect==5.0.0b0) (1.3.1)\n",
      "Requirement already satisfied: six in /Users/ykwang/opt/anaconda3/lib/python3.9/site-packages (from cycler>=0.10->matplotlib>=3.5.2->kcorrect==5.0.0b0) (1.16.0)\n",
      "Building wheels for collected packages: kcorrect, fitsio, pydl\n",
      "  Building wheel for kcorrect (setup.py) ... \u001b[?25ldone\n",
      "\u001b[?25h  Created wheel for kcorrect: filename=kcorrect-5.0.0b0-py3-none-any.whl size=7788933 sha256=75703b3d71d849f1940ba1deb36f8b562ae66047406ba2c3f0523aad4a79f3dd\n",
      "  Stored in directory: /private/var/folders/n5/rfjgz5594nn_l3rjr8jsplzr0000gn/T/pip-ephem-wheel-cache-xwuus0_0/wheels/a0/8a/ea/53240f37a019c3ca0b6978c6a1a8619b6e526a8390ea51c8d5\n",
      "  Building wheel for fitsio (setup.py) ... \u001b[?25ldone\n",
      "\u001b[?25h  Created wheel for fitsio: filename=fitsio-1.1.8-cp39-cp39-macosx_10_9_x86_64.whl size=746469 sha256=e07756d66ac6d283b1606e48c1fd610758250d9168533c4f31868ffeef7d4932\n",
      "  Stored in directory: /Users/ykwang/Library/Caches/pip/wheels/a9/cd/20/9fd1431b37c651cfff1e644ff7350763cb31abec4f6c3eddca\n",
      "  Building wheel for pydl (setup.py) ... \u001b[?25ldone\n",
      "\u001b[?25h  Created wheel for pydl: filename=pydl-0.7.0-py3-none-any.whl size=572141 sha256=27ebf56eaef6f402704a31ce1c21353adf54b6695a9a96eaf759e4573ea8ebdb\n",
      "  Stored in directory: /Users/ykwang/Library/Caches/pip/wheels/b8/21/76/4766c1b94a6dbe514895418091b66b8ec7a90f1d5bd80a1255\n",
      "Successfully built kcorrect fitsio pydl\n",
      "Installing collected packages: contourpy, scipy, matplotlib, pydl, fitsio, kcorrect\n",
      "\u001b[33m  WARNING: The scripts compute_templates, get_juldate and hogg_iau_name are installed in '/Users/ykwang/.local/bin' which is not on PATH.\n",
      "  Consider adding this directory to PATH or, if you prefer to suppress this warning, use --no-warn-script-location.\u001b[0m\n",
      "\u001b[31mERROR: pip's dependency resolver does not currently take into account all the packages that are installed. This behaviour is the source of the following dependency conflicts.\n",
      "pymc3 3.11.5 requires numpy<1.22.2,>=1.15.0, but you have numpy 1.22.4 which is incompatible.\n",
      "pymc3 3.11.5 requires scipy<1.8.0,>=1.7.3, but you have scipy 1.10.0 which is incompatible.\u001b[0m\n",
      "Successfully installed contourpy-1.0.7 fitsio-1.1.8 kcorrect-5.0.0b0 matplotlib-3.6.3 pydl-0.7.0 scipy-1.10.0\n"
     ]
    }
   ],
   "source": [
    "# As of Jan. 29, 2023, pypi version throws an error: install from github directly\n",
    "!pip install --user git+https://github.com/blanton144/kcorrect.git"
   ]
  },
  {
   "cell_type": "markdown",
   "id": "84cccee0-8df1-41de-a77d-96a40f09210b",
   "metadata": {},
   "source": [
    "## Exercise 1: Low-redshift galaxy CMD with LSST\n",
    "\n",
    "Plot the absolute r magnitude vs. rest-frame u-r color for 50,000 galaxies with z < 0.08."
   ]
  },
  {
   "cell_type": "code",
   "execution_count": null,
   "id": "76dddfba-0007-49e3-96b9-15ac6dd6f6f8",
   "metadata": {
    "tags": []
   },
   "outputs": [],
   "source": [
    "import numpy as np\n",
    "import matplotlib.pyplot as plt\n",
    "import pandas as pd\n",
    "import numpy.ma as ma"
   ]
  },
  {
   "cell_type": "code",
   "execution_count": null,
   "id": "6001747e-cb0e-4782-a3e4-81659d7ae9aa",
   "metadata": {
    "tags": []
   },
   "outputs": [],
   "source": [
    "from lsst.rsp import get_tap_service, retrieve_query\n",
    "service = get_tap_service()"
   ]
  },
  {
   "cell_type": "markdown",
   "id": "09eecf8d-6f17-4ede-b31f-f3cb5318c3da",
   "metadata": {},
   "source": [
    "Since we're going to need more columns than you might expect in this homework and the query is slow (~20 minutes), I'm going to provide the SQL query:"
   ]
  },
  {
   "cell_type": "code",
   "execution_count": null,
   "id": "c471ce41-0df6-4d02-82cc-7521843fb499",
   "metadata": {
    "tags": []
   },
   "outputs": [],
   "source": [
    "query = \"SELECT mt.id_truth_type AS mt_id_truth_type, \"\\\n",
    "        \"mt.match_objectId AS mt_match_objectId, \"\\\n",
    "        \"ts.truth_type AS ts_truth_type, \"\\\n",
    "        \"ts.redshift AS ts_redshift, \"\\\n",
    "        \"scisql_nanojanskyToAbMag(ts.flux_u) AS ts_mag_u, \"\\\n",
    "        \"scisql_nanojanskyToAbMag(ts.flux_g) AS ts_mag_g, \"\\\n",
    "        \"scisql_nanojanskyToAbMag(ts.flux_r) AS ts_mag_r, \"\\\n",
    "        \"scisql_nanojanskyToAbMag(ts.flux_i) AS ts_mag_i, \"\\\n",
    "        \"scisql_nanojanskyToAbMag(ts.flux_z) AS ts_mag_z, \"\\\n",
    "        \"scisql_nanojanskyToAbMag(ts.flux_y) AS ts_mag_y, \"\\\n",
    "        \"scisql_nanojanskyToAbMag(obj.u_cModelFlux) AS obj_cModelMag_u, \"\\\n",
    "        \"scisql_nanojanskyToAbMag(obj.g_cModelFlux) AS obj_cModelMag_g, \"\\\n",
    "        \"scisql_nanojanskyToAbMag(obj.r_cModelFlux) AS obj_cModelMag_r, \"\\\n",
    "        \"scisql_nanojanskyToAbMag(obj.i_cModelFlux) AS obj_cModelMag_i, \"\\\n",
    "        \"scisql_nanojanskyToAbMag(obj.z_cModelFlux) AS obj_cModelMag_z, \"\\\n",
    "        \"scisql_nanojanskyToAbMag(obj.y_cModelFlux) AS obj_cModelMag_y, \"\\\n",
    "        \"scisql_nanojanskyToAbMagSigma(obj.u_cModelFlux,obj.u_cModelFluxErr) AS obj_cModelMagErr_u, \"\\\n",
    "        \"scisql_nanojanskyToAbMagSigma(obj.g_cModelFlux,obj.g_cModelFluxErr) AS obj_cModelMagErr_g, \"\\\n",
    "        \"scisql_nanojanskyToAbMagSigma(obj.r_cModelFlux,obj.r_cModelFluxErr) AS obj_cModelMagErr_r, \"\\\n",
    "        \"scisql_nanojanskyToAbMagSigma(obj.i_cModelFlux,obj.i_cModelFluxErr) AS obj_cModelMagErr_i, \"\\\n",
    "        \"scisql_nanojanskyToAbMagSigma(obj.z_cModelFlux,obj.z_cModelFluxErr) AS obj_cModelMagErr_z, \"\\\n",
    "        \"scisql_nanojanskyToAbMagSigma(obj.y_cModelFlux,obj.y_cModelFluxErr) AS obj_cModelMagErr_y \"\\\n",
    "        \"FROM dp02_dc2_catalogs.MatchesTruth AS mt \"\\\n",
    "        \"JOIN dp02_dc2_catalogs.TruthSummary AS ts ON mt.id_truth_type = ts.id_truth_type \"\\\n",
    "        \"JOIN dp02_dc2_catalogs.Object AS obj ON mt.match_objectId = obj.objectId \"\\\n",
    "        \"WHERE ts.truth_type = 1 \"\\ \n",
    "        \"AND ts.redshift < 0.08 \"\\\n",
    "        \"LIMIT 50000\"\n",
    "print(query)"
   ]
  },
  {
   "cell_type": "code",
   "execution_count": null,
   "id": "5cdd678c-981d-48e3-8dc7-841f5d89cb6b",
   "metadata": {
    "tags": []
   },
   "outputs": [],
   "source": [
    "%%time\n",
    "job = service.submit_job(query)\n",
    "print('Job URL is', job.url)\n",
    "print('Job phase is', job.phase)\n",
    "job.run()\n",
    "job.wait(phases=['COMPLETED', 'ERROR'])\n",
    "print('Job phase is', job.phase)"
   ]
  },
  {
   "cell_type": "code",
   "execution_count": null,
   "id": "72090b5e-d221-4aef-801e-a86e63a73d18",
   "metadata": {
    "tags": []
   },
   "outputs": [],
   "source": [
    "#job.raise_if_error()"
   ]
  },
  {
   "cell_type": "code",
   "execution_count": null,
   "id": "b1c0ba8d-a3ec-43a4-b4a0-d6e14794f460",
   "metadata": {
    "tags": []
   },
   "outputs": [],
   "source": [
    "df = job.fetch_result().to_table().to_pandas()"
   ]
  },
  {
   "cell_type": "code",
   "execution_count": null,
   "id": "83f8f80f-750e-4dcd-8721-bf4d80c3b8c9",
   "metadata": {
    "tags": []
   },
   "outputs": [],
   "source": [
    "# since the query is slow let's save the results\n",
    "df.to_parquet('lowz_query_results.parquet')"
   ]
  },
  {
   "cell_type": "code",
   "execution_count": null,
   "id": "ec222889-b210-4098-86b3-f09bf5f55a5d",
   "metadata": {
    "tags": []
   },
   "outputs": [],
   "source": [
    "# reread from file if needed\n",
    "df = pd.read_parquet('lowz_query_results.parquet')"
   ]
  },
  {
   "cell_type": "markdown",
   "id": "c2ac6848-2ecc-4931-a2c7-ce2bc42e6199",
   "metadata": {},
   "source": [
    "We now have the true redshifts and both true and \"observed\" magnitudes in all bands for sources we know are galaxies (`ts.truth_type == 1`; this is a bit of a cheat!).  To get the absolute magnitude we need the distance modulus and the k-correction (see the references above, or [here](https://kcorrect.readthedocs.io/en/5.0.0b/basics.html#) for a briefer overview).  (The rest-frame color requires the k-corrections as well.)  To use `kcorrect` we need to make some unit conversions."
   ]
  },
  {
   "cell_type": "markdown",
   "id": "ccdc3a8c-d7e3-49e4-9847-30fd0c50cfff",
   "metadata": {},
   "source": [
    "`kcorrect` doesn't have LSST bands in it.  So we will approximate with SDSS ugriz."
   ]
  },
  {
   "cell_type": "code",
   "execution_count": null,
   "id": "ca2dc8a4-a9f2-4766-a1dd-23791d59cf91",
   "metadata": {
    "tags": []
   },
   "outputs": [],
   "source": [
    "import kcorrect.kcorrect\n",
    "\n",
    "responses = ['sdss_u0', 'sdss_g0', 'sdss_r0', 'sdss_i0', 'sdss_z0']\n",
    "kc = kcorrect.kcorrect.Kcorrect(responses=responses)"
   ]
  },
  {
   "cell_type": "markdown",
   "id": "264837ab-8ac5-4401-b8d7-232a9a7ed1d3",
   "metadata": {},
   "source": [
    "`kcorrect` wants inputs in units of maggies and their inverse variances, as numpy arrays with dimensions (objects x filters).  For convenience here is that conversion:"
   ]
  },
  {
   "cell_type": "code",
   "execution_count": null,
   "id": "3b2e1beb-b61d-4cf9-aff6-6dc70667287a",
   "metadata": {
    "tags": []
   },
   "outputs": [],
   "source": [
    "maggies = df[['obj_cModelMag_u', 'obj_cModelMag_g', 'obj_cModelMag_r',\n",
    "       'obj_cModelMag_i', 'obj_cModelMag_z']].apply(\n",
    "    lambda x: 10.0 ** (-0.4 * x)).values\n",
    "maggies"
   ]
  },
  {
   "cell_type": "code",
   "execution_count": null,
   "id": "4105c234-0016-4092-a2ae-2bc1e7c874f0",
   "metadata": {
    "tags": []
   },
   "outputs": [],
   "source": [
    "ivars = df[['obj_cModelMagErr_u', 'obj_cModelMagErr_g', 'obj_cModelMagErr_r',\n",
    "       'obj_cModelMagErr_i', 'obj_cModelMagErr_z']].apply(\n",
    "    lambda x: 1./ (0.4 * np.log(10) * x) ** 2.).values / (maggies**2.)\n",
    "ivars"
   ]
  },
  {
   "cell_type": "markdown",
   "id": "80cbefc9-7762-4126-b8bb-c171e536efdd",
   "metadata": {},
   "source": [
    "Now use `kcorrect` to compute the rest-frame absolute magnitude in r-band as well as the rest frame u-r color, and plot them.  Note that you'll need to exclude some rows with `NaN`s.\n",
    "\n",
    "Compare your result qualitatively to Figure 1 of Baldry et al. 2004."
   ]
  },
  {
   "cell_type": "markdown",
   "id": "39c92f5b-167b-471c-8326-dd2373ba306f",
   "metadata": {},
   "source": [
    "## Exercise 2: Removing a cheat\n",
    "\n",
    "We made two cheats above: we used the truth table to tell us which galaxies we have as well as their redshifts.  In SDSS those redshifts were obtained through spectroscopy, but for Rubin most redshifts will have to be obtained photometrically.\n",
    "\n",
    "Using the data from our query above, follow [this notebook](https://github.com/rubin-dp0/delegate-contributions-dp02/tree/main/photoz/CMNN_Estimator) by Melissa Graham to compute a very simple photo-z for these galaxies.  Plot the true redshift vs estimated photo-z, and then re-plot the CMD from Exercise 1 using photo-z rather than the true spectroscopic redshift."
   ]
  },
  {
   "cell_type": "code",
   "execution_count": null,
   "id": "484657a0-70a8-48b9-9dbe-1b7443f6bf83",
   "metadata": {},
   "outputs": [],
   "source": []
  },
  {
   "cell_type": "markdown",
   "id": "c515c97d-c564-4520-a8a6-627d5ee21c1c",
   "metadata": {},
   "source": [
    "## Exercise 3 (Optional): Hi-Z\n",
    "\n",
    "Repeat exercise 1 for a higher redshift range (z=1.5-2?) and see how the CMD changes."
   ]
  },
  {
   "cell_type": "code",
   "execution_count": null,
   "id": "0353c9ca-2db5-412c-ae52-f2cf60aba7db",
   "metadata": {},
   "outputs": [],
   "source": []
  }
 ],
 "metadata": {
  "kernelspec": {
   "display_name": "rubin",
   "language": "python",
   "name": "rubin"
  },
  "language_info": {
   "codemirror_mode": {
    "name": "ipython",
    "version": 3
   },
   "file_extension": ".py",
   "mimetype": "text/x-python",
   "name": "python",
   "nbconvert_exporter": "python",
   "pygments_lexer": "ipython3",
   "version": "3.10.8"
  }
 },
 "nbformat": 4,
 "nbformat_minor": 5
}
